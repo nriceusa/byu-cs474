{
  "cells": [
    {
      "cell_type": "markdown",
      "metadata": {
        "id": "roNWQ-H0x7Ma"
      },
      "source": [
        "[![Open In Colab](https://colab.research.google.com/assets/colab-badge.svg)](https://colab.research.google.com/github/porterjenkins/byu-cs474/blob/master/lab5_generalization.ipynb)"
      ]
    },
    {
      "cell_type": "markdown",
      "metadata": {
        "id": "ttC8f3uOlC2C"
      },
      "source": [
        "# Lab 5: Measuring Performance"
      ]
    },
    {
      "cell_type": "markdown",
      "metadata": {
        "id": "dPQqEicJlNGa"
      },
      "source": [
        "## Objectives\n",
        "\n",
        "\n",
        "*   Understand how to accurately measure generalization performance of deep networks\n",
        "*   Gain intuition into the bias-variance trade-off and the double descent phenomenon\n",
        "*   Investigate properties of high dimensional spaces and better understand the ''curse of dimensionality''\n",
        "\n"
      ]
    },
    {
      "cell_type": "markdown",
      "metadata": {
        "id": "pDJ1RdGomDHj"
      },
      "source": [
        "## Deliverable\n",
        "\n",
        "You will turn in a completed version of notebook to Canvas/Learning Suite.  In various places you will see the words \"TO DO\". Follow the instructions at these places and write code to complete the instructions\n",
        "\n"
      ]
    },
    {
      "cell_type": "markdown",
      "metadata": {
        "id": "RrGvYA4pkxH-"
      },
      "source": [
        "## Notes\n",
        "You will not need a GPU instance for this lab"
      ]
    },
    {
      "cell_type": "markdown",
      "metadata": {
        "id": "joIT4SFmmeFp"
      },
      "source": [
        "## Q1) Understanding Generalization\n",
        "\n",
        "In this question, we will use the MNIST1D dataset (https://github.com/greydanus/mnist1d) to reproduce Figure 8.2 from Prince."
      ]
    },
    {
      "cell_type": "code",
      "execution_count": 1,
      "metadata": {
        "id": "3cSu7e4Jmtfm",
        "outputId": "85ae5ff4-f895-4e0e-cbaf-ad55835529a7",
        "colab": {
          "base_uri": "https://localhost:8080/"
        }
      },
      "outputs": [
        {
          "output_type": "stream",
          "name": "stdout",
          "text": [
            "Collecting git+https://github.com/greydanus/mnist1d\n",
            "  Cloning https://github.com/greydanus/mnist1d to /tmp/pip-req-build-1kdt__b4\n",
            "  Running command git clone --filter=blob:none --quiet https://github.com/greydanus/mnist1d /tmp/pip-req-build-1kdt__b4\n",
            "  Resolved https://github.com/greydanus/mnist1d to commit 7878d96082abd200c546a07a4101fa90b30fdf7e\n",
            "  Installing build dependencies ... \u001b[?25l\u001b[?25hdone\n",
            "  Getting requirements to build wheel ... \u001b[?25l\u001b[?25hdone\n",
            "  Preparing metadata (pyproject.toml) ... \u001b[?25l\u001b[?25hdone\n",
            "Requirement already satisfied: requests in /usr/local/lib/python3.10/dist-packages (from mnist1d==0.0.2.post16) (2.32.3)\n",
            "Requirement already satisfied: numpy in /usr/local/lib/python3.10/dist-packages (from mnist1d==0.0.2.post16) (1.26.4)\n",
            "Requirement already satisfied: matplotlib in /usr/local/lib/python3.10/dist-packages (from mnist1d==0.0.2.post16) (3.7.1)\n",
            "Requirement already satisfied: scipy in /usr/local/lib/python3.10/dist-packages (from mnist1d==0.0.2.post16) (1.13.1)\n",
            "Requirement already satisfied: contourpy>=1.0.1 in /usr/local/lib/python3.10/dist-packages (from matplotlib->mnist1d==0.0.2.post16) (1.3.0)\n",
            "Requirement already satisfied: cycler>=0.10 in /usr/local/lib/python3.10/dist-packages (from matplotlib->mnist1d==0.0.2.post16) (0.12.1)\n",
            "Requirement already satisfied: fonttools>=4.22.0 in /usr/local/lib/python3.10/dist-packages (from matplotlib->mnist1d==0.0.2.post16) (4.54.1)\n",
            "Requirement already satisfied: kiwisolver>=1.0.1 in /usr/local/lib/python3.10/dist-packages (from matplotlib->mnist1d==0.0.2.post16) (1.4.7)\n",
            "Requirement already satisfied: packaging>=20.0 in /usr/local/lib/python3.10/dist-packages (from matplotlib->mnist1d==0.0.2.post16) (24.1)\n",
            "Requirement already satisfied: pillow>=6.2.0 in /usr/local/lib/python3.10/dist-packages (from matplotlib->mnist1d==0.0.2.post16) (10.4.0)\n",
            "Requirement already satisfied: pyparsing>=2.3.1 in /usr/local/lib/python3.10/dist-packages (from matplotlib->mnist1d==0.0.2.post16) (3.1.4)\n",
            "Requirement already satisfied: python-dateutil>=2.7 in /usr/local/lib/python3.10/dist-packages (from matplotlib->mnist1d==0.0.2.post16) (2.8.2)\n",
            "Requirement already satisfied: charset-normalizer<4,>=2 in /usr/local/lib/python3.10/dist-packages (from requests->mnist1d==0.0.2.post16) (3.4.0)\n",
            "Requirement already satisfied: idna<4,>=2.5 in /usr/local/lib/python3.10/dist-packages (from requests->mnist1d==0.0.2.post16) (3.10)\n",
            "Requirement already satisfied: urllib3<3,>=1.21.1 in /usr/local/lib/python3.10/dist-packages (from requests->mnist1d==0.0.2.post16) (2.2.3)\n",
            "Requirement already satisfied: certifi>=2017.4.17 in /usr/local/lib/python3.10/dist-packages (from requests->mnist1d==0.0.2.post16) (2024.8.30)\n",
            "Requirement already satisfied: six>=1.5 in /usr/local/lib/python3.10/dist-packages (from python-dateutil>=2.7->matplotlib->mnist1d==0.0.2.post16) (1.16.0)\n",
            "Building wheels for collected packages: mnist1d\n",
            "  Building wheel for mnist1d (pyproject.toml) ... \u001b[?25l\u001b[?25hdone\n",
            "  Created wheel for mnist1d: filename=mnist1d-0.0.2.post16-py3-none-any.whl size=14625 sha256=a16a31a0c6f7556b32e39086829343e19e97b413f50be25efd7a4b671b0c7346\n",
            "  Stored in directory: /tmp/pip-ephem-wheel-cache-69usxo2o/wheels/41/95/55/45fcf7d38cfa97e35682da6c5017d4513729131326ce935371\n",
            "Successfully built mnist1d\n",
            "Installing collected packages: mnist1d\n",
            "Successfully installed mnist1d-0.0.2.post16\n"
          ]
        }
      ],
      "source": [
        "# Run this if you're in a Colab to install MNIST 1D repository\n",
        "%pip install git+https://github.com/greydanus/mnist1d"
      ]
    },
    {
      "cell_type": "code",
      "execution_count": 2,
      "metadata": {
        "id": "3z76SO4ymxbW"
      },
      "outputs": [],
      "source": [
        "import torch, torch.nn as nn\n",
        "from torch.utils.data import TensorDataset, DataLoader\n",
        "from torch.optim.lr_scheduler import StepLR\n",
        "import numpy as np\n",
        "import matplotlib.pyplot as plt\n",
        "import mnist1d"
      ]
    },
    {
      "cell_type": "markdown",
      "metadata": {
        "id": "vDJ27aiZnRa-"
      },
      "source": [
        "Let's generate a training and test dataset using the MNIST1D code. The dataset gets saved as a .pkl file so it doesn't have to be regenerated each time."
      ]
    },
    {
      "cell_type": "code",
      "execution_count": 3,
      "metadata": {
        "colab": {
          "base_uri": "https://localhost:8080/"
        },
        "id": "Nh2VSEZHnSlo",
        "outputId": "ec8e3349-c6fe-4710-ffc9-1925bf9d8685"
      },
      "outputs": [
        {
          "output_type": "stream",
          "name": "stdout",
          "text": [
            "mkdir: cannot create directory ‘./sample_data’: File exists\n",
            "Did or could not load data from ./sample_data/mnist1d_data.pkl. Rebuilding dataset...\n",
            "Examples in training set: 4000\n",
            "Examples in test set: 1000\n",
            "Length of each example: 40\n"
          ]
        }
      ],
      "source": [
        "!mkdir ./sample_data\n",
        "\n",
        "args = mnist1d.data.get_dataset_args()\n",
        "data = mnist1d.data.get_dataset(args, path='./sample_data/mnist1d_data.pkl', download=False, regenerate=False)\n",
        "\n",
        "# The training and test input and outputs are in\n",
        "# data['x'], data['y'], data['x_test'], and data['y_test']\n",
        "print(\"Examples in training set: {}\".format(len(data['y'])))\n",
        "print(\"Examples in test set: {}\".format(len(data['y_test'])))\n",
        "print(\"Length of each example: {}\".format(data['x'].shape[-1]))"
      ]
    },
    {
      "cell_type": "code",
      "execution_count": 4,
      "metadata": {
        "id": "qFiZ1dY9nUcO"
      },
      "outputs": [],
      "source": [
        "D_i = 40    # Input dimensions\n",
        "D_k = 100   # Hidden dimensions\n",
        "D_o = 10    # Output dimensions"
      ]
    },
    {
      "cell_type": "markdown",
      "metadata": {
        "id": "QpU3rh4KuPHv"
      },
      "source": [
        "### Part 1.a)"
      ]
    },
    {
      "cell_type": "markdown",
      "metadata": {
        "id": "gBmIfg5veT9S"
      },
      "source": [
        "**TODO:** Define a PyTorch model with two hidden layers of size 100 And ReLU activations between them"
      ]
    },
    {
      "cell_type": "code",
      "execution_count": 8,
      "metadata": {
        "id": "iPSyIAj0rDqA"
      },
      "outputs": [],
      "source": [
        "# Your code here (see Figure 7.8 of book for help)\n",
        "model = nn.Sequential(\n",
        "    nn.Linear(D_i, D_k),\n",
        "    nn.ReLU(),\n",
        "    nn.Linear(D_k, D_k),\n",
        "    nn.ReLU(),\n",
        "    nn.Linear(D_k, D_o)\n",
        ")"
      ]
    },
    {
      "cell_type": "markdown",
      "metadata": {
        "id": "Lj_PwXFXekFA"
      },
      "source": [
        "**TODO:** Initialize the parameters with He initialization"
      ]
    },
    {
      "cell_type": "code",
      "execution_count": 10,
      "metadata": {
        "id": "S94b51qnoQU2"
      },
      "outputs": [],
      "source": [
        "def weights_init(layer_in):\n",
        "    # TODO: Replace this line (see figure 7.8 of Prince for help)\n",
        "    if isinstance(layer_in, nn.Linear):\n",
        "        nn.init.kaiming_normal_(layer_in.weight)\n",
        "        layer_in.bias.data.fill_(0.0)"
      ]
    },
    {
      "cell_type": "code",
      "execution_count": 11,
      "metadata": {
        "colab": {
          "base_uri": "https://localhost:8080/"
        },
        "id": "5Rf4hB4RoZpg",
        "outputId": "75188d0d-0a67-48d3-d11b-dfcb3659fbc7"
      },
      "outputs": [
        {
          "output_type": "execute_result",
          "data": {
            "text/plain": [
              "Sequential(\n",
              "  (0): Linear(in_features=40, out_features=100, bias=True)\n",
              "  (1): ReLU()\n",
              "  (2): Linear(in_features=100, out_features=100, bias=True)\n",
              "  (3): ReLU()\n",
              "  (4): Linear(in_features=100, out_features=10, bias=True)\n",
              ")"
            ]
          },
          "metadata": {},
          "execution_count": 11
        }
      ],
      "source": [
        "# Call the function you just defined\n",
        "model.apply(weights_init)"
      ]
    },
    {
      "cell_type": "code",
      "execution_count": 12,
      "metadata": {
        "colab": {
          "base_uri": "https://localhost:8080/"
        },
        "id": "NbNIYtj7nZQj",
        "outputId": "46e2d88f-bc46-44af-8daa-ccb1cfead765"
      },
      "outputs": [
        {
          "output_type": "execute_result",
          "data": {
            "text/plain": [
              "Sequential(\n",
              "  (0): Linear(in_features=40, out_features=100, bias=True)\n",
              "  (1): ReLU()\n",
              "  (2): Linear(in_features=100, out_features=100, bias=True)\n",
              "  (3): ReLU()\n",
              "  (4): Linear(in_features=100, out_features=10, bias=True)\n",
              ")"
            ]
          },
          "metadata": {},
          "execution_count": 12
        }
      ],
      "source": [
        "x_train = torch.tensor(data['x'].astype('float32'))\n",
        "y_train = torch.tensor(data['y'].transpose().astype('long'))\n",
        "x_test= torch.tensor(data['x_test'].astype('float32'))\n",
        "y_test = torch.tensor(data['y_test'].astype('long'))\n",
        "\n",
        "# load the data into a class that creates the batches\n",
        "data_loader = DataLoader(TensorDataset(x_train,y_train), batch_size=100, shuffle=True, worker_init_fn=np.random.seed(1))\n",
        "\n",
        "# Initialize model weights\n",
        "model.apply(weights_init)\n"
      ]
    },
    {
      "cell_type": "code",
      "execution_count": 13,
      "metadata": {
        "id": "kqsnmLLHx7Mf"
      },
      "outputs": [],
      "source": [
        "def train_model(model, data_loader, n_epoch=50):\n",
        "\n",
        "    # Initialize model weights\n",
        "    model.apply(weights_init)\n",
        "\n",
        "    # store the loss and the % correct at each epoch\n",
        "    losses_train = np.zeros((n_epoch))\n",
        "    errors_train = np.zeros((n_epoch))\n",
        "    losses_test = np.zeros((n_epoch))\n",
        "    errors_test = np.zeros((n_epoch))\n",
        "\n",
        "    # choose cross entropy loss function (equation 5.24)\n",
        "    loss_function = torch.nn.CrossEntropyLoss()\n",
        "    # construct SGD optimizer and initialize learning rate and momentum\n",
        "    optimizer = torch.optim.SGD(model.parameters(), lr = 0.05, momentum=0.9)\n",
        "    # object that decreases learning rate by half every 10 epochs\n",
        "    scheduler = StepLR(optimizer, step_size=10, gamma=0.5)\n",
        "\n",
        "\n",
        "    for epoch in range(n_epoch):\n",
        "      # loop over batches\n",
        "      for i, batch in enumerate(data_loader):\n",
        "        # retrieve inputs and labels for this batch\n",
        "        x_batch, y_batch = batch\n",
        "        # zero the parameter gradients\n",
        "        optimizer.zero_grad()\n",
        "        # forward pass -- calculate model output\n",
        "        pred = model(x_batch)\n",
        "        # compute the loss\n",
        "        loss = loss_function(pred, y_batch)\n",
        "        # backward pass\n",
        "        loss.backward()\n",
        "        # SGD update\n",
        "        optimizer.step()\n",
        "\n",
        "      # Run whole dataset to get statistics -- normally wouldn't do this\n",
        "      pred_train = model(x_train)\n",
        "      pred_test = model(x_test)\n",
        "      _, predicted_train_class = torch.max(pred_train.data, 1)\n",
        "      _, predicted_test_class = torch.max(pred_test.data, 1)\n",
        "      errors_train[epoch] = 100 - 100 * (predicted_train_class == y_train).float().sum() / len(y_train)\n",
        "      errors_test[epoch]= 100 - 100 * (predicted_test_class == y_test).float().sum() / len(y_test)\n",
        "      losses_train[epoch] = loss_function(pred_train, y_train).item()\n",
        "      losses_test[epoch]= loss_function(pred_test, y_test).item()\n",
        "      print(f'Epoch {epoch:5d}, train loss {losses_train[epoch]:.6f}, train error {errors_train[epoch]:3.2f},  test loss {losses_test[epoch]:.6f}, test error {errors_test[epoch]:3.2f}')\n",
        "\n",
        "      # tell scheduler to consider updating learning rate\n",
        "      scheduler.step()\n",
        "\n",
        "    return errors_train, errors_test, losses_train, losses_test"
      ]
    },
    {
      "cell_type": "code",
      "execution_count": 14,
      "metadata": {
        "id": "k_TzmBOVnlSL"
      },
      "outputs": [],
      "source": [
        "def plot_results(errors_train, errors_test, losses_train, losses_test, n_epoch=50):\n",
        "\n",
        "    # Plot the results\n",
        "    fig, ax = plt.subplots()\n",
        "    ax.plot(errors_train,'r-',label='train')\n",
        "    ax.plot(errors_test,'b-',label='test')\n",
        "    ax.set_ylim(0,100); ax.set_xlim(0,n_epoch)\n",
        "    ax.set_xlabel('Epoch'); ax.set_ylabel('Error')\n",
        "    ax.set_title('TrainError %3.2f, Test Error %3.2f'%(errors_train[-1],errors_test[-1]))\n",
        "    ax.legend()\n",
        "    plt.show()\n",
        "\n",
        "    # Plot the results\n",
        "    fig, ax = plt.subplots()\n",
        "    ax.plot(losses_train,'r-',label='train')\n",
        "    ax.plot(losses_test,'b-',label='test')\n",
        "    ax.set_xlim(0,n_epoch)\n",
        "    ax.set_xlabel('Epoch'); ax.set_ylabel('Loss')\n",
        "    ax.set_title('Train loss %3.2f, Test loss %3.2f'%(losses_train[-1],losses_test[-1]))\n",
        "    ax.legend()\n",
        "    plt.show()"
      ]
    },
    {
      "cell_type": "markdown",
      "metadata": {
        "id": "WST_owlix7Mg"
      },
      "source": [
        "**TODO:** Train your model for 50 epochs"
      ]
    },
    {
      "cell_type": "code",
      "execution_count": 15,
      "metadata": {
        "id": "HyM_052Lx7Mg",
        "outputId": "cb118edc-2027-4058-f4fd-1d11c5c0dbe7",
        "colab": {
          "base_uri": "https://localhost:8080/"
        }
      },
      "outputs": [
        {
          "output_type": "stream",
          "name": "stdout",
          "text": [
            "Epoch     0, train loss 1.630654, train error 64.97,  test loss 1.710231, test error 72.30\n",
            "Epoch     1, train loss 1.325120, train error 49.17,  test loss 1.472629, test error 59.10\n",
            "Epoch     2, train loss 1.175034, train error 42.65,  test loss 1.364118, test error 53.30\n",
            "Epoch     3, train loss 1.039673, train error 37.97,  test loss 1.283376, test error 48.00\n",
            "Epoch     4, train loss 0.930695, train error 32.68,  test loss 1.229936, test error 47.60\n",
            "Epoch     5, train loss 0.820618, train error 30.05,  test loss 1.190886, test error 46.30\n",
            "Epoch     6, train loss 0.728276, train error 25.43,  test loss 1.141880, test error 44.70\n",
            "Epoch     7, train loss 0.666514, train error 23.32,  test loss 1.110804, test error 40.60\n",
            "Epoch     8, train loss 0.617929, train error 21.60,  test loss 1.117077, test error 40.60\n",
            "Epoch     9, train loss 0.531623, train error 17.72,  test loss 1.137948, test error 40.60\n",
            "Epoch    10, train loss 0.439394, train error 13.28,  test loss 1.055638, test error 37.70\n",
            "Epoch    11, train loss 0.394298, train error 11.32,  test loss 1.054869, test error 37.00\n",
            "Epoch    12, train loss 0.360866, train error 10.00,  test loss 1.058161, test error 37.90\n",
            "Epoch    13, train loss 0.332524, train error 8.68,  test loss 1.052408, test error 36.80\n",
            "Epoch    14, train loss 0.309010, train error 8.03,  test loss 1.066712, test error 37.50\n",
            "Epoch    15, train loss 0.284253, train error 7.22,  test loss 1.122403, test error 37.40\n",
            "Epoch    16, train loss 0.259393, train error 6.00,  test loss 1.106959, test error 38.30\n",
            "Epoch    17, train loss 0.241606, train error 5.45,  test loss 1.136866, test error 36.70\n",
            "Epoch    18, train loss 0.212352, train error 4.50,  test loss 1.141305, test error 38.00\n",
            "Epoch    19, train loss 0.193072, train error 3.38,  test loss 1.127066, test error 37.60\n",
            "Epoch    20, train loss 0.169878, train error 2.53,  test loss 1.149539, test error 36.90\n",
            "Epoch    21, train loss 0.161084, train error 2.35,  test loss 1.168764, test error 37.00\n",
            "Epoch    22, train loss 0.153108, train error 2.05,  test loss 1.165911, test error 37.40\n",
            "Epoch    23, train loss 0.142839, train error 1.47,  test loss 1.163904, test error 36.40\n",
            "Epoch    24, train loss 0.136551, train error 1.47,  test loss 1.189860, test error 36.90\n",
            "Epoch    25, train loss 0.129757, train error 1.22,  test loss 1.192074, test error 36.50\n",
            "Epoch    26, train loss 0.124294, train error 1.05,  test loss 1.216854, test error 36.80\n",
            "Epoch    27, train loss 0.118349, train error 1.03,  test loss 1.220888, test error 36.80\n",
            "Epoch    28, train loss 0.111353, train error 0.90,  test loss 1.236650, test error 36.40\n",
            "Epoch    29, train loss 0.106911, train error 0.72,  test loss 1.255872, test error 37.50\n",
            "Epoch    30, train loss 0.100984, train error 0.75,  test loss 1.250152, test error 36.50\n",
            "Epoch    31, train loss 0.098267, train error 0.57,  test loss 1.260345, test error 37.30\n",
            "Epoch    32, train loss 0.096728, train error 0.47,  test loss 1.262141, test error 36.80\n",
            "Epoch    33, train loss 0.094291, train error 0.57,  test loss 1.276125, test error 37.00\n",
            "Epoch    34, train loss 0.091433, train error 0.47,  test loss 1.274300, test error 36.80\n",
            "Epoch    35, train loss 0.089356, train error 0.43,  test loss 1.277025, test error 36.70\n",
            "Epoch    36, train loss 0.088227, train error 0.47,  test loss 1.290965, test error 37.20\n",
            "Epoch    37, train loss 0.085328, train error 0.35,  test loss 1.291209, test error 37.30\n",
            "Epoch    38, train loss 0.083178, train error 0.32,  test loss 1.297247, test error 37.20\n",
            "Epoch    39, train loss 0.081460, train error 0.40,  test loss 1.304439, test error 37.40\n",
            "Epoch    40, train loss 0.080180, train error 0.22,  test loss 1.306009, test error 37.10\n",
            "Epoch    41, train loss 0.079279, train error 0.30,  test loss 1.309350, test error 37.20\n",
            "Epoch    42, train loss 0.078284, train error 0.30,  test loss 1.312453, test error 37.30\n",
            "Epoch    43, train loss 0.077490, train error 0.20,  test loss 1.313760, test error 37.50\n",
            "Epoch    44, train loss 0.076808, train error 0.12,  test loss 1.318174, test error 37.30\n",
            "Epoch    45, train loss 0.075756, train error 0.22,  test loss 1.319265, test error 37.10\n",
            "Epoch    46, train loss 0.074986, train error 0.15,  test loss 1.323408, test error 37.10\n",
            "Epoch    47, train loss 0.074188, train error 0.12,  test loss 1.326094, test error 37.10\n",
            "Epoch    48, train loss 0.073508, train error 0.12,  test loss 1.328914, test error 37.60\n",
            "Epoch    49, train loss 0.072701, train error 0.18,  test loss 1.327587, test error 37.40\n"
          ]
        }
      ],
      "source": [
        "# Your code here\n",
        "errors_train, errors_test, losses_train, losses_test = train_model(model, data_loader, n_epoch=50)"
      ]
    },
    {
      "cell_type": "markdown",
      "metadata": {
        "id": "cAYFpmL7x7Mg"
      },
      "source": [
        "**TODO**: Plot the resulting quantities:\n",
        "- Train errors\n",
        "- Test errors\n",
        "- Train losses\n",
        "- Test losses"
      ]
    },
    {
      "cell_type": "code",
      "execution_count": 17,
      "metadata": {
        "id": "vFL1bn6Vx7Mg",
        "outputId": "e0d70ef6-70fd-496d-a116-fb9757dcd078",
        "colab": {
          "base_uri": "https://localhost:8080/",
          "height": 927
        }
      },
      "outputs": [
        {
          "output_type": "display_data",
          "data": {
            "text/plain": [
              "<Figure size 640x480 with 1 Axes>"
            ],
            "image/png": "[encoded data removed]"
          },
          "metadata": {}
        },
        {
          "output_type": "display_data",
          "data": {
            "text/plain": [
              "<Figure size 640x480 with 1 Axes>"
            ],
            "image/png": "[encoded data removed]"
          },
          "metadata": {}
        }
      ],
      "source": [
        "# Your code here\n",
        "plot_results(errors_train, errors_test, losses_train, losses_test, n_epoch=50)"
      ]
    },
    {
      "cell_type": "markdown",
      "metadata": {
        "id": "slNQbGY8uYiX"
      },
      "source": [
        "### Part 1.b)\n",
        "\n",
        "Now let's increase the capacity of our model to have five hidden layers and re-run our experiment. Pay attention to what happens to the train and test curves."
      ]
    },
    {
      "cell_type": "markdown",
      "metadata": {
        "id": "CSPCfIoTvU4g"
      },
      "source": [
        "**TODO:**\n",
        "Define a model with five hidden layers of size 100\n",
        "and ReLU activations between them"
      ]
    },
    {
      "cell_type": "code",
      "execution_count": null,
      "metadata": {
        "id": "gy2gTmeruiz7"
      },
      "outputs": [],
      "source": [
        "# Your code here:"
      ]
    },
    {
      "cell_type": "markdown",
      "metadata": {
        "id": "lx0MKjx3vbLs"
      },
      "source": [
        "**TODO**: Train the model using the same code as above"
      ]
    },
    {
      "cell_type": "code",
      "execution_count": null,
      "metadata": {
        "id": "oLPELEolvnxS"
      },
      "outputs": [],
      "source": [
        "# Your code here"
      ]
    },
    {
      "cell_type": "markdown",
      "metadata": {
        "id": "rC3feLw5v7pd"
      },
      "source": [
        "**TODO**: Plot the results using the same code as above"
      ]
    },
    {
      "cell_type": "code",
      "execution_count": null,
      "metadata": {
        "id": "0QV9y79Mv-Fk"
      },
      "outputs": [],
      "source": [
        "# Your code here"
      ]
    },
    {
      "cell_type": "markdown",
      "metadata": {
        "id": "NKPGfSmuwcbS"
      },
      "source": [
        "### Part 1.c)\n",
        "\n",
        "Let's run one last experiment, this time with a simple linear model with **NO** hidden layers. In this case we will decrease the capacity of the model. Again, pay attention to what happens to the train and test curves."
      ]
    },
    {
      "cell_type": "markdown",
      "metadata": {
        "id": "dDOtAsSYwtD2"
      },
      "source": [
        "**TODO:** Define a model with no hidden layers. This model should just be a linear layer that maps from the input dimension, `D_i` to the output dimension, `D_o`"
      ]
    },
    {
      "cell_type": "code",
      "execution_count": null,
      "metadata": {
        "id": "OpKrzL2Dw9Gt"
      },
      "outputs": [],
      "source": [
        "# Your code here"
      ]
    },
    {
      "cell_type": "markdown",
      "metadata": {
        "id": "f2KDpACWxJ43"
      },
      "source": [
        "**TODO**: Train the model using the same code as above\n"
      ]
    },
    {
      "cell_type": "code",
      "execution_count": null,
      "metadata": {
        "id": "88LzTORexQfX"
      },
      "outputs": [],
      "source": [
        "# Your code here"
      ]
    },
    {
      "cell_type": "markdown",
      "metadata": {
        "id": "RnmXf9ZVxUum"
      },
      "source": [
        "**TODO**: Plot the results using the same code as above"
      ]
    },
    {
      "cell_type": "code",
      "execution_count": null,
      "metadata": {
        "id": "4w2DbeqWyNDr"
      },
      "outputs": [],
      "source": [
        "# Your code here"
      ]
    },
    {
      "cell_type": "markdown",
      "metadata": {
        "id": "GhYWl39Hn2kx"
      },
      "source": [
        "### Part 1.d: Discussion\n",
        "What did you observe as you changed the model capacity in your experiments? What are some measures you might include to improve generalization of your models?"
      ]
    },
    {
      "cell_type": "code",
      "execution_count": null,
      "metadata": {
        "id": "nQZmTlaKx7Mi"
      },
      "outputs": [],
      "source": [
        "# Your response here"
      ]
    },
    {
      "cell_type": "markdown",
      "metadata": {
        "id": "n_qzCupZxv56"
      },
      "source": [
        "\n",
        "\n"
      ]
    },
    {
      "cell_type": "markdown",
      "metadata": {
        "id": "CWdgJdgGy163"
      },
      "source": [
        "## Q2:  Bias-variance Trade-off\n",
        "\n",
        "In this problem, we will investigate the bias-variance trade-off and reproduce the curves seen in Figure 8.8 in Prince."
      ]
    },
    {
      "cell_type": "code",
      "execution_count": null,
      "metadata": {
        "id": "biNd-0BmzB8S"
      },
      "outputs": [],
      "source": [
        "import numpy as np\n",
        "import matplotlib.pyplot as plt"
      ]
    },
    {
      "cell_type": "markdown",
      "metadata": {
        "id": "FyyvXug7zSJT"
      },
      "source": [
        "Let's specify the true function that we are trying to estimate, defined on [0,1]"
      ]
    },
    {
      "cell_type": "code",
      "execution_count": null,
      "metadata": {
        "id": "dp_hhiFHzN1j"
      },
      "outputs": [],
      "source": [
        "def true_function(x):\n",
        "    y = np.exp(np.sin(x*(2*3.1413)))\n",
        "    return y"
      ]
    },
    {
      "cell_type": "markdown",
      "metadata": {
        "id": "vTz8KoI9zV20"
      },
      "source": [
        "Now let's generate some data point and add bit of noise to the labels"
      ]
    },
    {
      "cell_type": "code",
      "execution_count": null,
      "metadata": {
        "id": "RibUkvvBzUkC"
      },
      "outputs": [],
      "source": [
        "def generate_data(n_data, sigma_y=0.3):\n",
        "    # Generate x values quasi uniformly\n",
        "    x = np.ones(n_data)\n",
        "    for i in range(n_data):\n",
        "        x[i] = np.random.uniform(i/n_data, (i+1)/n_data, 1)\n",
        "\n",
        "    # y value from running through function and adding noise\n",
        "    y = np.ones(n_data)\n",
        "    for i in range(n_data):\n",
        "        y[i] = true_function(x[i])\n",
        "        y[i] += np.random.normal(0, sigma_y, 1)\n",
        "    return x,y\n"
      ]
    },
    {
      "cell_type": "markdown",
      "metadata": {
        "id": "Tc-ywywAzf6O"
      },
      "source": [
        "Let's draw the fitted function, together with uncertainty used to generate points\n"
      ]
    },
    {
      "cell_type": "code",
      "execution_count": null,
      "metadata": {
        "id": "pIPVYxWEzfJ5"
      },
      "outputs": [],
      "source": [
        "def plot_function(x_func, y_func, x_data=None,y_data=None, x_model = None, y_model =None, sigma_func = None, sigma_model=None):\n",
        "\n",
        "    fig,ax = plt.subplots()\n",
        "    ax.plot(x_func, y_func, 'k-')\n",
        "    if sigma_func is not None:\n",
        "      ax.fill_between(x_func, y_func-2*sigma_func, y_func+2*sigma_func, color='lightgray')\n",
        "\n",
        "    if x_data is not None:\n",
        "        ax.plot(x_data, y_data, 'o', color='#d18362')\n",
        "\n",
        "    if x_model is not None:\n",
        "        ax.plot(x_model, y_model, '-', color='#7fe7de')\n",
        "\n",
        "    if sigma_model is not None:\n",
        "      ax.fill_between(x_model, y_model-2*sigma_model, y_model+2*sigma_model, color='lightgray')\n",
        "\n",
        "    ax.set_xlim(0,1)\n",
        "    ax.set_xlabel('Input, x')\n",
        "    ax.set_ylabel('Output, y')\n",
        "    plt.show()\n",
        "    plt.show()"
      ]
    },
    {
      "cell_type": "markdown",
      "metadata": {
        "id": "p14Ig5cNzxru"
      },
      "source": [
        "Sample from the true function (no noise):"
      ]
    },
    {
      "cell_type": "code",
      "execution_count": null,
      "metadata": {
        "id": "pMBVcLwNzjmn"
      },
      "outputs": [],
      "source": [
        "x_func = np.linspace(0, 1.0, 100)\n",
        "y_func = true_function(x_func);"
      ]
    },
    {
      "cell_type": "markdown",
      "metadata": {
        "id": "_UyzfDRwz5e1"
      },
      "source": [
        "Generate some training data (with noise):"
      ]
    },
    {
      "cell_type": "code",
      "execution_count": null,
      "metadata": {
        "id": "LqnTSqluz-am"
      },
      "outputs": [],
      "source": [
        "np.random.seed(1)\n",
        "sigma_func = 0.3\n",
        "n_data = 15\n",
        "x_data,y_data = generate_data(n_data, sigma_func)"
      ]
    },
    {
      "cell_type": "markdown",
      "metadata": {
        "id": "V3wH2zDi0H5s"
      },
      "source": [
        "Plot the data with the functions defined above"
      ]
    },
    {
      "cell_type": "code",
      "execution_count": null,
      "metadata": {
        "id": "_GBGX5K60Lbz"
      },
      "outputs": [],
      "source": [
        "plot_function(x_func, y_func, x_data, y_data, sigma_func=sigma_func)"
      ]
    },
    {
      "cell_type": "code",
      "execution_count": null,
      "metadata": {
        "id": "t8SVgFH50MMs"
      },
      "outputs": [],
      "source": [
        "# Define model -- beta is a scalar and omega has size n_hidden,1\n",
        "def network(x, beta, omega):\n",
        "    # Retrieve number of hidden units\n",
        "    n_hidden = omega.shape[0]\n",
        "\n",
        "    y = np.zeros_like(x)\n",
        "    for c_hidden in range(n_hidden):\n",
        "        # Evaluate activations based on shifted lines (figure 8.4b-d)\n",
        "        line_vals =  x  - c_hidden/n_hidden\n",
        "        h =  line_vals * (line_vals > 0)\n",
        "        # Weight activations by omega parameters and sum\n",
        "        y = y + omega[c_hidden] * h\n",
        "    # Add bias, beta\n",
        "    y = y + beta\n",
        "\n",
        "    return y"
      ]
    },
    {
      "cell_type": "code",
      "execution_count": null,
      "metadata": {
        "id": "9A3Hwp462OcD"
      },
      "outputs": [],
      "source": [
        "# This fits the n_hidden+1 parameters (see fig 8.4a) in closed form.\n",
        "# If you have studied linear algebra, then you will know it is a least\n",
        "# squares solution of the form (A^TA)^-1A^Tb.  If you don't recognize that,\n",
        "# then just take it on trust that this gives you the best possible solution.\n",
        "def fit_model_closed_form(x,y,n_hidden):\n",
        "  n_data = len(x)\n",
        "  A = np.ones((n_data, n_hidden+1))\n",
        "  for i in range(n_data):\n",
        "      for j in range(1,n_hidden+1):\n",
        "          A[i,j] = x[i]-(j-1)/n_hidden\n",
        "          if A[i,j] < 0:\n",
        "              A[i,j] = 0;\n",
        "\n",
        "  beta_omega = np.linalg.lstsq(A, y, rcond=None)[0]\n",
        "\n",
        "  beta = beta_omega[0]\n",
        "  omega = beta_omega[1:]\n",
        "\n",
        "  return beta, omega"
      ]
    },
    {
      "cell_type": "code",
      "execution_count": null,
      "metadata": {
        "id": "d0pMEIav2SkA"
      },
      "outputs": [],
      "source": [
        "# Closed form solution\n",
        "beta, omega = fit_model_closed_form(x_data,y_data,n_hidden=3)\n",
        "\n",
        "# Get prediction for model across graph range\n",
        "x_model = np.linspace(0,1,100);\n",
        "y_model = network(x_model, beta, omega)\n",
        "\n",
        "# Draw the function and the model\n",
        "plot_function(x_func, y_func, x_data,y_data, x_model, y_model)"
      ]
    },
    {
      "cell_type": "markdown",
      "metadata": {
        "id": "lo9GjQKLftvu"
      },
      "source": [
        "### Part 2.a) Estimating the mean and variance of the model outputs, over many training runs"
      ]
    },
    {
      "cell_type": "markdown",
      "metadata": {
        "id": "w6m0EzZa28Nl"
      },
      "source": [
        "**TODO:** Fill in the missing pieces of this function to tun the model many times with different datasets and return the mean and variance\n"
      ]
    },
    {
      "cell_type": "code",
      "execution_count": null,
      "metadata": {
        "id": "lTSCIXEi2YqR"
      },
      "outputs": [],
      "source": [
        "def get_model_mean_variance(n_data, n_datasets, n_hidden, sigma_func):\n",
        "\n",
        "  # Create array that stores model results in rows\n",
        "  y_model_all = np.zeros((n_datasets, n_data))\n",
        "\n",
        "  for c_dataset in range(n_datasets):\n",
        "    # TODO -- Generate n_data x,y, pairs with standard deviation sigma_func\n",
        "    # Replace this line\n",
        "    x_data, y_data = None, None\n",
        "\n",
        "    # TODO -- Fit the model\n",
        "    # Replace this line:\n",
        "    beta, omega = None, None\n",
        "\n",
        "    # TODO -- Run the fitted model on x_model\n",
        "    # Replace this line\n",
        "    y_model = None\n",
        "\n",
        "    # Store the model results\n",
        "    y_model_all[c_dataset,:] = y_model\n",
        "\n",
        "  # Get mean and standard deviation of model\n",
        "  mean_model = np.mean(y_model_all,axis=0)\n",
        "  std_model = np.std(y_model_all,axis=0)\n",
        "\n",
        "  # Return the mean and standard deviation of the fitted model\n",
        "  return mean_model, std_model"
      ]
    },
    {
      "cell_type": "markdown",
      "metadata": {
        "id": "RzMkq7KrfVpf"
      },
      "source": [
        "Let's generate N=100 random data sets, fit the model N=100 times and look the mean and variance. Here we will have 15 data points and 3 hidden units in our model:"
      ]
    },
    {
      "cell_type": "code",
      "execution_count": null,
      "metadata": {
        "id": "SVA-Fsek2awb"
      },
      "outputs": [],
      "source": [
        "n_datasets = 100\n",
        "n_data = 15\n",
        "sigma_func = 0.3\n",
        "n_hidden = 3\n",
        "\n",
        "# Get mean and variance of fitted model\n",
        "np.random.seed(1)\n",
        "mean_model, std_model = get_model_mean_variance(n_data, n_datasets, n_hidden, sigma_func)"
      ]
    },
    {
      "cell_type": "markdown",
      "metadata": {
        "id": "nKXyiLhufnKy"
      },
      "source": [
        "Plot the results\n"
      ]
    },
    {
      "cell_type": "code",
      "execution_count": null,
      "metadata": {
        "id": "Z_sVRJFM59Il"
      },
      "outputs": [],
      "source": [
        "x_model_grid = np.linspace(0, 1, len(mean_model))\n",
        "plot_function(x_func, y_func, x_model=x_model_grid, y_model=mean_model, sigma_model=std_model)"
      ]
    },
    {
      "cell_type": "markdown",
      "metadata": {
        "id": "eh4WZfS1eLCf"
      },
      "source": [
        "If you did this correctly, you can see that there that we observe both **bias** and **variance** in the model outputs. Here bias refers to the fact that we have some error from the model outputs and the true function (distance between cyan and black lines); variance refers to the gray region indicating there is a fair amount of variability in what the model outputs over each dataset it sees.\n"
      ]
    },
    {
      "cell_type": "markdown",
      "metadata": {
        "id": "HwK2BJaTgfEf"
      },
      "source": [
        "### Part 2.b) Changing the amount of available data"
      ]
    },
    {
      "cell_type": "markdown",
      "metadata": {
        "id": "fmgb8vk9gkmq"
      },
      "source": [
        "**TODO**: Let's rerun the same experiment as the cell above, but this time let's increase the the number of training points to 100, `n_data=100`"
      ]
    },
    {
      "cell_type": "code",
      "execution_count": null,
      "metadata": {
        "id": "TocjrVyMgjv-"
      },
      "outputs": [],
      "source": []
    },
    {
      "cell_type": "markdown",
      "metadata": {
        "id": "CfwYl0RFg5RB"
      },
      "source": [
        "**TODO**: Plot the results:"
      ]
    },
    {
      "cell_type": "code",
      "execution_count": null,
      "metadata": {
        "id": "C22lkN1Fg6vN"
      },
      "outputs": [],
      "source": []
    },
    {
      "cell_type": "markdown",
      "metadata": {
        "id": "IQ85NPNJhErP"
      },
      "source": [
        "**TODO**: What happened to the variance? Record your observations"
      ]
    },
    {
      "cell_type": "markdown",
      "metadata": {
        "id": "ILpVwLAchNIE"
      },
      "source": []
    },
    {
      "cell_type": "markdown",
      "metadata": {
        "id": "IZbtyZAdhU3n"
      },
      "source": [
        "### Part 2.c) Increasing the model capacity"
      ]
    },
    {
      "cell_type": "markdown",
      "metadata": {
        "id": "PELiw9OmhgZI"
      },
      "source": [
        "**TODO**: Let's rerun the same experiment as the cell above, but this time let's increase set the number of hidden units to 12 and the number of training points to 15"
      ]
    },
    {
      "cell_type": "code",
      "execution_count": null,
      "metadata": {
        "id": "qzObr8GtiHAC"
      },
      "outputs": [],
      "source": []
    },
    {
      "cell_type": "markdown",
      "metadata": {
        "id": "HinKPGgQiQjd"
      },
      "source": [
        "**TODO**: Plot the results"
      ]
    },
    {
      "cell_type": "code",
      "execution_count": null,
      "metadata": {
        "id": "2Qr9NuZFiUab"
      },
      "outputs": [],
      "source": []
    },
    {
      "cell_type": "markdown",
      "metadata": {
        "id": "ddt1HRY8iXSa"
      },
      "source": [
        "**TODO**: What happened to the bias? Record your observations"
      ]
    },
    {
      "cell_type": "markdown",
      "metadata": {
        "id": "STzzHzUXibS9"
      },
      "source": []
    },
    {
      "cell_type": "markdown",
      "metadata": {
        "id": "8-q3uKaPibZd"
      },
      "source": [
        "### Part 2.d) High capacity and high data"
      ]
    },
    {
      "cell_type": "markdown",
      "metadata": {
        "id": "w0ADRLw4i4cO"
      },
      "source": [
        "**TODO**: Let's rerun the same experiment as the cell above, but this time let's increase set the number of hidden units to 12 and the number of training points to 1000"
      ]
    },
    {
      "cell_type": "code",
      "execution_count": null,
      "metadata": {
        "id": "6EWpipC2i72U"
      },
      "outputs": [],
      "source": []
    },
    {
      "cell_type": "markdown",
      "metadata": {
        "id": "C7AJjSURi-Qx"
      },
      "source": [
        "**TODO:** Plot the results"
      ]
    },
    {
      "cell_type": "code",
      "execution_count": null,
      "metadata": {
        "id": "TwFGSKRIjHgd"
      },
      "outputs": [],
      "source": []
    },
    {
      "cell_type": "markdown",
      "metadata": {
        "id": "BdwDgFvrjFjV"
      },
      "source": [
        "**TODO**: Record your observations about the bias and variance in this setting"
      ]
    },
    {
      "cell_type": "markdown",
      "metadata": {
        "id": "7z1Hf1QJjQKg"
      },
      "source": []
    },
    {
      "cell_type": "markdown",
      "metadata": {
        "id": "5Ce1iSIwamXh"
      },
      "source": [
        "## Q3) High Dimensional Spaces\n",
        "This question investigates the strange properties of high-dimensional spaces as discussed in the notes at the end of chapter 8.\n",
        "\n"
      ]
    },
    {
      "cell_type": "code",
      "execution_count": null,
      "metadata": {
        "id": "6xfTUNQvcPx-"
      },
      "outputs": [],
      "source": [
        "from scipy.spatial.distance import pdist"
      ]
    },
    {
      "cell_type": "code",
      "execution_count": null,
      "metadata": {
        "id": "XRRwkYqVan88"
      },
      "outputs": [],
      "source": [
        "# Fix the random seed so we all have the same random numbers\n",
        "np.random.seed(0)\n",
        "n_data = 1000\n",
        "# Create 1000 data examples (columns) each with 2 dimensions (rows)\n",
        "n_dim = 2\n",
        "x_2D = np.random.normal(size=(n_dim,n_data))\n",
        "# Create 1000 data examples (columns) each with 100 dimensions (rows)\n",
        "n_dim = 100\n",
        "x_100D = np.random.normal(size=(n_dim,n_data))\n",
        "# Create 1000 data examples (columns) each with 1000 dimensions (rows)\n",
        "n_dim = 1000\n",
        "x_1000D = np.random.normal(size=(n_dim,n_data))\n"
      ]
    },
    {
      "cell_type": "markdown",
      "metadata": {
        "id": "HlY5Ewr9d9Kd"
      },
      "source": [
        "**TODO:** Implement the missing parts of the function below:"
      ]
    },
    {
      "cell_type": "code",
      "execution_count": null,
      "metadata": {
        "id": "hRrYxiAIaxHp"
      },
      "outputs": [],
      "source": [
        "def distance_ratio(x):\n",
        "  # TODO -- replace the two lines below to calculate the largest and smallest Euclidean distance between\n",
        "  # the data points in the columns of x.  DO NOT include the distance between the data point\n",
        "  # and itself (which is obviously zero)\n",
        "\n",
        "  smallest_dist = 1.0\n",
        "  largest_dist = 1.0\n",
        "\n",
        "  # Calculate the ratio and return\n",
        "  dist_ratio = largest_dist / smallest_dist\n",
        "  return dist_ratio"
      ]
    },
    {
      "cell_type": "code",
      "execution_count": null,
      "metadata": {
        "id": "of_ivtxgayPp"
      },
      "outputs": [],
      "source": [
        "\n",
        "print('Ratio of largest to smallest distance 2D: %3.3f'%(distance_ratio(x_2D)))\n",
        "print('Ratio of largest to smallest distance 100D: %3.3f'%(distance_ratio(x_100D)))\n",
        "print('Ratio of largest to smallest distance 1000D: %3.3f'%(distance_ratio(x_1000D)))\n"
      ]
    },
    {
      "cell_type": "markdown",
      "metadata": {
        "id": "wKlKDJ5ld0HT"
      },
      "source": [
        "If you did this right, you will see that the distance between the nearest and farthest two points in high dimensions is almost the same.\n",
        "\n"
      ]
    },
    {
      "cell_type": "code",
      "execution_count": null,
      "metadata": {
        "id": "WmyrvE3Ljzt7"
      },
      "outputs": [],
      "source": []
    }
  ],
  "metadata": {
    "colab": {
      "provenance": []
    },
    "kernelspec": {
      "display_name": "Python 3 (ipykernel)",
      "language": "python",
      "name": "python3"
    },
    "language_info": {
      "codemirror_mode": {
        "name": "ipython",
        "version": 3
      },
      "file_extension": ".py",
      "mimetype": "text/x-python",
      "name": "python",
      "nbconvert_exporter": "python",
      "pygments_lexer": "ipython3",
      "version": "3.9.13"
    }
  },
  "nbformat": 4,
  "nbformat_minor": 0
}