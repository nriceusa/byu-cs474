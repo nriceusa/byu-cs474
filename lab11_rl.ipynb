{
  "cells": [
    {
      "cell_type": "markdown",
      "metadata": {
        "id": "6nO8m9UOGEJP"
      },
      "source": [
        "[![Open In Colab](https://colab.research.google.com/assets/colab-badge.svg)](https://github.com/porterjenkins/byu-cs474/blob/master/lab11_rl.ipynb)"
      ]
    },
    {
      "cell_type": "markdown",
      "metadata": {
        "id": "sl7hEuB3J4k3"
      },
      "source": [
        "# Deep Reinforcement Learning\n",
        "\n",
        "## Objective\n",
        "\n",
        "- Build DQN and PPO Deep RL algorithms\n",
        "- Learn the difference between Q Learning and Policy Gradient techniques\n",
        "\n",
        "## Deliverable\n",
        "\n",
        "For this lab you will submit an ipython notebook via learning suite. This lab gives you a lot of code, and you should only need to modify two of the cells of this notebook. Feel free to download and modify this notebook or create your own. The below code is given for your convinience. You can modify any of the given code if you wish.\n",
        "\n",
        "## Tips\n",
        "\n",
        "Deep reinforcement learning is difficult. We provide hyperparameters, visualizations, and code for gathering experience, but require you to code up algorithms for training your networks.\n",
        "\n",
        "- Your networks should be able to demonstrate learning on cartpole within a minute of wall time.\n",
        "\n",
        "- Understand what your the starter code is doing. This will help you with the *TODO* sections. The main code block is similar for the two algorithms with some small yet important differences.\n",
        "\n",
        "- We provide hyperparameters for you to start with. Feel free to experiment with different values, but these worked for us.\n",
        "\n",
        "- **Print dtypes and shapes** throughout your code to make sure your tensors look the way you expect.\n",
        "\n",
        "- The DQN algorithm is significantly more unstable than PPO. Even with a correct implementation it may fail to learn every 1/10 times.\n",
        "\n",
        "- Unfortunately visualizing your agent acting in the environment is non-trivial in Colab. You can visualize your agent by running this code locally and uncommenting the `env.render()` line.\n",
        "\n",
        "## Grading\n",
        "\n",
        "- 40% Part 1: DQN *TODO* methods\n",
        "- 40% Part 2: PPO *TODO* methods\n",
        "- 20% Cartpole learning curves\n",
        "\n",
        "\n",
        "### Cartpole\n",
        "\n",
        "Cartpole is a simple environment to get your agent up and running. It has a continuous state space of 4 dimensions and a discrete action space of 2. The agent is given a reward of 1 for each timestep it remains standing. Your agent should be able to reach close to 200 cumulative reward for an episode after a minute or two of training. The below graphs show example results for dqn (left) and ppo (right).\n",
        "\n",
        "![alt text](https://github.com/wingated/cs474_labs/blob/master/images/dqn.png?raw=true)\n",
        "![alt text](https://github.com/wingated/cs474_labs/blob/master/images/ppo.png?raw=true)\n",
        "\n",
        "### TODO\n",
        "\n",
        "- Train DQN and PPO on cartpole\n",
        "- Display learning curves with average episodic reward per epoch"
      ]
    },
    {
      "cell_type": "markdown",
      "metadata": {
        "id": "gVWokqnVab6O"
      },
      "source": [
        "# Starter Code"
      ]
    },
    {
      "cell_type": "markdown",
      "metadata": {
        "id": "WhaPOG6xt0yn"
      },
      "source": [
        "## Init"
      ]
    },
    {
      "cell_type": "code",
      "execution_count": 1,
      "metadata": {
        "colab": {
          "base_uri": "https://localhost:8080/"
        },
        "id": "EyykNyRM1Tf3",
        "outputId": "766b3972-1439-40c1-99a2-1b369d227e57"
      },
      "outputs": [
        {
          "output_type": "stream",
          "name": "stdout",
          "text": [
            "Collecting gymnasium\n",
            "  Downloading gymnasium-1.0.0-py3-none-any.whl.metadata (9.5 kB)\n",
            "Requirement already satisfied: numpy>=1.21.0 in /usr/local/lib/python3.10/dist-packages (from gymnasium) (1.26.4)\n",
            "Requirement already satisfied: cloudpickle>=1.2.0 in /usr/local/lib/python3.10/dist-packages (from gymnasium) (3.1.0)\n",
            "Requirement already satisfied: typing-extensions>=4.3.0 in /usr/local/lib/python3.10/dist-packages (from gymnasium) (4.12.2)\n",
            "Collecting farama-notifications>=0.0.1 (from gymnasium)\n",
            "  Downloading Farama_Notifications-0.0.4-py3-none-any.whl.metadata (558 bytes)\n",
            "Downloading gymnasium-1.0.0-py3-none-any.whl (958 kB)\n",
            "\u001b[?25l   \u001b[90m━━━━━━━━━━━━━━━━━━━━━━━━━━━━━━━━━━━━━━━━\u001b[0m \u001b[32m0.0/958.1 kB\u001b[0m \u001b[31m?\u001b[0m eta \u001b[36m-:--:--\u001b[0m\r\u001b[2K   \u001b[91m━━━━━━━━━━━━━━━━━━━━━━━\u001b[0m\u001b[91m╸\u001b[0m\u001b[90m━━━━━━━━━━━━━━━━\u001b[0m \u001b[32m563.2/958.1 kB\u001b[0m \u001b[31m17.4 MB/s\u001b[0m eta \u001b[36m0:00:01\u001b[0m\r\u001b[2K   \u001b[90m━━━━━━━━━━━━━━━━━━━━━━━━━━━━━━━━━━━━━━━━\u001b[0m \u001b[32m958.1/958.1 kB\u001b[0m \u001b[31m17.8 MB/s\u001b[0m eta \u001b[36m0:00:00\u001b[0m\n",
            "\u001b[?25hDownloading Farama_Notifications-0.0.4-py3-none-any.whl (2.5 kB)\n",
            "Installing collected packages: farama-notifications, gymnasium\n",
            "Successfully installed farama-notifications-0.0.4 gymnasium-1.0.0\n",
            "Requirement already satisfied: torch in /usr/local/lib/python3.10/dist-packages (2.5.1+cu121)\n",
            "Requirement already satisfied: filelock in /usr/local/lib/python3.10/dist-packages (from torch) (3.16.1)\n",
            "Requirement already satisfied: typing-extensions>=4.8.0 in /usr/local/lib/python3.10/dist-packages (from torch) (4.12.2)\n",
            "Requirement already satisfied: networkx in /usr/local/lib/python3.10/dist-packages (from torch) (3.4.2)\n",
            "Requirement already satisfied: jinja2 in /usr/local/lib/python3.10/dist-packages (from torch) (3.1.4)\n",
            "Requirement already satisfied: fsspec in /usr/local/lib/python3.10/dist-packages (from torch) (2024.10.0)\n",
            "Requirement already satisfied: sympy==1.13.1 in /usr/local/lib/python3.10/dist-packages (from torch) (1.13.1)\n",
            "Requirement already satisfied: mpmath<1.4,>=1.1.0 in /usr/local/lib/python3.10/dist-packages (from sympy==1.13.1->torch) (1.3.0)\n",
            "Requirement already satisfied: MarkupSafe>=2.0 in /usr/local/lib/python3.10/dist-packages (from jinja2->torch) (3.0.2)\n",
            "Requirement already satisfied: pygame in /usr/local/lib/python3.10/dist-packages (2.6.1)\n",
            "Requirement already satisfied: moviepy==1.0.3 in /usr/local/lib/python3.10/dist-packages (1.0.3)\n",
            "Requirement already satisfied: decorator<5.0,>=4.0.2 in /usr/local/lib/python3.10/dist-packages (from moviepy==1.0.3) (4.4.2)\n",
            "Requirement already satisfied: imageio<3.0,>=2.5 in /usr/local/lib/python3.10/dist-packages (from moviepy==1.0.3) (2.36.1)\n",
            "Requirement already satisfied: imageio_ffmpeg>=0.2.0 in /usr/local/lib/python3.10/dist-packages (from moviepy==1.0.3) (0.5.1)\n",
            "Requirement already satisfied: tqdm<5.0,>=4.11.2 in /usr/local/lib/python3.10/dist-packages (from moviepy==1.0.3) (4.66.6)\n",
            "Requirement already satisfied: numpy>=1.17.3 in /usr/local/lib/python3.10/dist-packages (from moviepy==1.0.3) (1.26.4)\n",
            "Requirement already satisfied: requests<3.0,>=2.8.1 in /usr/local/lib/python3.10/dist-packages (from moviepy==1.0.3) (2.32.3)\n",
            "Requirement already satisfied: proglog<=1.0.0 in /usr/local/lib/python3.10/dist-packages (from moviepy==1.0.3) (0.1.10)\n",
            "Requirement already satisfied: pillow>=8.3.2 in /usr/local/lib/python3.10/dist-packages (from imageio<3.0,>=2.5->moviepy==1.0.3) (11.0.0)\n",
            "Requirement already satisfied: setuptools in /usr/local/lib/python3.10/dist-packages (from imageio_ffmpeg>=0.2.0->moviepy==1.0.3) (75.1.0)\n",
            "Requirement already satisfied: charset-normalizer<4,>=2 in /usr/local/lib/python3.10/dist-packages (from requests<3.0,>=2.8.1->moviepy==1.0.3) (3.4.0)\n",
            "Requirement already satisfied: idna<4,>=2.5 in /usr/local/lib/python3.10/dist-packages (from requests<3.0,>=2.8.1->moviepy==1.0.3) (3.10)\n",
            "Requirement already satisfied: urllib3<3,>=1.21.1 in /usr/local/lib/python3.10/dist-packages (from requests<3.0,>=2.8.1->moviepy==1.0.3) (2.2.3)\n",
            "Requirement already satisfied: certifi>=2017.4.17 in /usr/local/lib/python3.10/dist-packages (from requests<3.0,>=2.8.1->moviepy==1.0.3) (2024.8.30)\n",
            "Requirement already satisfied: imageio_ffmpeg in /usr/local/lib/python3.10/dist-packages (0.5.1)\n",
            "Requirement already satisfied: setuptools in /usr/local/lib/python3.10/dist-packages (from imageio_ffmpeg) (75.1.0)\n",
            "Collecting pyvirtualdisplay\n",
            "  Downloading PyVirtualDisplay-3.0-py3-none-any.whl.metadata (943 bytes)\n",
            "Downloading PyVirtualDisplay-3.0-py3-none-any.whl (15 kB)\n",
            "Installing collected packages: pyvirtualdisplay\n",
            "Successfully installed pyvirtualdisplay-3.0\n",
            "Reading package lists... Done\n",
            "Building dependency tree... Done\n",
            "Reading state information... Done\n",
            "ffmpeg is already the newest version (7:4.4.2-0ubuntu0.22.04.1).\n",
            "The following additional packages will be installed:\n",
            "  freeglut3 libfontenc1 libglu1-mesa libxfont2 libxkbfile1 x11-xkb-utils xfonts-base\n",
            "  xfonts-encodings xfonts-utils xserver-common\n",
            "Suggested packages:\n",
            "  libgle3 python3-numpy\n",
            "The following NEW packages will be installed:\n",
            "  freeglut3 libfontenc1 libglu1-mesa libxfont2 libxkbfile1 python3-opengl x11-xkb-utils xfonts-base\n",
            "  xfonts-encodings xfonts-utils xserver-common xvfb\n",
            "0 upgraded, 12 newly installed, 0 to remove and 49 not upgraded.\n",
            "Need to get 8,639 kB of archives.\n",
            "After this operation, 20.0 MB of additional disk space will be used.\n",
            "Get:1 http://archive.ubuntu.com/ubuntu jammy/universe amd64 freeglut3 amd64 2.8.1-6 [74.0 kB]\n",
            "Get:2 http://archive.ubuntu.com/ubuntu jammy/main amd64 libfontenc1 amd64 1:1.1.4-1build3 [14.7 kB]\n",
            "Get:3 http://archive.ubuntu.com/ubuntu jammy/main amd64 libxfont2 amd64 1:2.0.5-1build1 [94.5 kB]\n",
            "Get:4 http://archive.ubuntu.com/ubuntu jammy/main amd64 libxkbfile1 amd64 1:1.1.0-1build3 [71.8 kB]\n",
            "Get:5 http://archive.ubuntu.com/ubuntu jammy/main amd64 libglu1-mesa amd64 9.0.2-1 [145 kB]\n",
            "Get:6 http://archive.ubuntu.com/ubuntu jammy/universe amd64 python3-opengl all 3.1.5+dfsg-1 [605 kB]\n",
            "Get:7 http://archive.ubuntu.com/ubuntu jammy/main amd64 x11-xkb-utils amd64 7.7+5build4 [172 kB]\n",
            "Get:8 http://archive.ubuntu.com/ubuntu jammy/main amd64 xfonts-encodings all 1:1.0.5-0ubuntu2 [578 kB]\n",
            "Get:9 http://archive.ubuntu.com/ubuntu jammy/main amd64 xfonts-utils amd64 1:7.7+6build2 [94.6 kB]\n",
            "Get:10 http://archive.ubuntu.com/ubuntu jammy/main amd64 xfonts-base all 1:1.0.5 [5,896 kB]\n",
            "Get:11 http://archive.ubuntu.com/ubuntu jammy-updates/main amd64 xserver-common all 2:21.1.4-2ubuntu1.7~22.04.12 [28.7 kB]\n",
            "Get:12 http://archive.ubuntu.com/ubuntu jammy-updates/universe amd64 xvfb amd64 2:21.1.4-2ubuntu1.7~22.04.12 [864 kB]\n",
            "Fetched 8,639 kB in 1s (8,461 kB/s)\n",
            "Selecting previously unselected package freeglut3:amd64.\n",
            "(Reading database ... 123632 files and directories currently installed.)\n",
            "Preparing to unpack .../00-freeglut3_2.8.1-6_amd64.deb ...\n",
            "Unpacking freeglut3:amd64 (2.8.1-6) ...\n",
            "Selecting previously unselected package libfontenc1:amd64.\n",
            "Preparing to unpack .../01-libfontenc1_1%3a1.1.4-1build3_amd64.deb ...\n",
            "Unpacking libfontenc1:amd64 (1:1.1.4-1build3) ...\n",
            "Selecting previously unselected package libxfont2:amd64.\n",
            "Preparing to unpack .../02-libxfont2_1%3a2.0.5-1build1_amd64.deb ...\n",
            "Unpacking libxfont2:amd64 (1:2.0.5-1build1) ...\n",
            "Selecting previously unselected package libxkbfile1:amd64.\n",
            "Preparing to unpack .../03-libxkbfile1_1%3a1.1.0-1build3_amd64.deb ...\n",
            "Unpacking libxkbfile1:amd64 (1:1.1.0-1build3) ...\n",
            "Selecting previously unselected package libglu1-mesa:amd64.\n",
            "Preparing to unpack .../04-libglu1-mesa_9.0.2-1_amd64.deb ...\n",
            "Unpacking libglu1-mesa:amd64 (9.0.2-1) ...\n",
            "Selecting previously unselected package python3-opengl.\n",
            "Preparing to unpack .../05-python3-opengl_3.1.5+dfsg-1_all.deb ...\n",
            "Unpacking python3-opengl (3.1.5+dfsg-1) ...\n",
            "Selecting previously unselected package x11-xkb-utils.\n",
            "Preparing to unpack .../06-x11-xkb-utils_7.7+5build4_amd64.deb ...\n",
            "Unpacking x11-xkb-utils (7.7+5build4) ...\n",
            "Selecting previously unselected package xfonts-encodings.\n",
            "Preparing to unpack .../07-xfonts-encodings_1%3a1.0.5-0ubuntu2_all.deb ...\n",
            "Unpacking xfonts-encodings (1:1.0.5-0ubuntu2) ...\n",
            "Selecting previously unselected package xfonts-utils.\n",
            "Preparing to unpack .../08-xfonts-utils_1%3a7.7+6build2_amd64.deb ...\n",
            "Unpacking xfonts-utils (1:7.7+6build2) ...\n",
            "Selecting previously unselected package xfonts-base.\n",
            "Preparing to unpack .../09-xfonts-base_1%3a1.0.5_all.deb ...\n",
            "Unpacking xfonts-base (1:1.0.5) ...\n",
            "Selecting previously unselected package xserver-common.\n",
            "Preparing to unpack .../10-xserver-common_2%3a21.1.4-2ubuntu1.7~22.04.12_all.deb ...\n",
            "Unpacking xserver-common (2:21.1.4-2ubuntu1.7~22.04.12) ...\n",
            "Selecting previously unselected package xvfb.\n",
            "Preparing to unpack .../11-xvfb_2%3a21.1.4-2ubuntu1.7~22.04.12_amd64.deb ...\n",
            "Unpacking xvfb (2:21.1.4-2ubuntu1.7~22.04.12) ...\n",
            "Setting up freeglut3:amd64 (2.8.1-6) ...\n",
            "Setting up libfontenc1:amd64 (1:1.1.4-1build3) ...\n",
            "Setting up xfonts-encodings (1:1.0.5-0ubuntu2) ...\n",
            "Setting up libglu1-mesa:amd64 (9.0.2-1) ...\n",
            "Setting up libxkbfile1:amd64 (1:1.1.0-1build3) ...\n",
            "Setting up libxfont2:amd64 (1:2.0.5-1build1) ...\n",
            "Setting up x11-xkb-utils (7.7+5build4) ...\n",
            "Setting up python3-opengl (3.1.5+dfsg-1) ...\n",
            "Setting up xfonts-utils (1:7.7+6build2) ...\n",
            "Setting up xfonts-base (1:1.0.5) ...\n",
            "Setting up xserver-common (2:21.1.4-2ubuntu1.7~22.04.12) ...\n",
            "Setting up xvfb (2:21.1.4-2ubuntu1.7~22.04.12) ...\n",
            "Processing triggers for man-db (2.10.2-1) ...\n",
            "Processing triggers for fontconfig (2.13.1-4.2ubuntu5) ...\n",
            "Processing triggers for libc-bin (2.35-0ubuntu3.4) ...\n",
            "/sbin/ldconfig.real: /usr/local/lib/libumf.so.0 is not a symbolic link\n",
            "\n",
            "/sbin/ldconfig.real: /usr/local/lib/libtbbbind.so.3 is not a symbolic link\n",
            "\n",
            "/sbin/ldconfig.real: /usr/local/lib/libtcm.so.1 is not a symbolic link\n",
            "\n",
            "/sbin/ldconfig.real: /usr/local/lib/libur_loader.so.0 is not a symbolic link\n",
            "\n",
            "/sbin/ldconfig.real: /usr/local/lib/libtcm_debug.so.1 is not a symbolic link\n",
            "\n",
            "/sbin/ldconfig.real: /usr/local/lib/libtbbbind_2_5.so.3 is not a symbolic link\n",
            "\n",
            "/sbin/ldconfig.real: /usr/local/lib/libtbbbind_2_0.so.3 is not a symbolic link\n",
            "\n",
            "/sbin/ldconfig.real: /usr/local/lib/libur_adapter_level_zero.so.0 is not a symbolic link\n",
            "\n",
            "/sbin/ldconfig.real: /usr/local/lib/libtbbmalloc_proxy.so.2 is not a symbolic link\n",
            "\n",
            "/sbin/ldconfig.real: /usr/local/lib/libtbbmalloc.so.2 is not a symbolic link\n",
            "\n",
            "/sbin/ldconfig.real: /usr/local/lib/libtbb.so.12 is not a symbolic link\n",
            "\n",
            "/sbin/ldconfig.real: /usr/local/lib/libur_adapter_opencl.so.0 is not a symbolic link\n",
            "\n",
            "/sbin/ldconfig.real: /usr/local/lib/libhwloc.so.15 is not a symbolic link\n",
            "\n"
          ]
        }
      ],
      "source": [
        "! pip3 install gymnasium\n",
        "! pip3 install torch\n",
        "! pip install pygame\n",
        "! pip install moviepy==1.0.3\n",
        "! pip install imageio_ffmpeg\n",
        "! pip install pyvirtualdisplay\n",
        "! apt-get install -y xvfb python3-opengl ffmpeg"
      ]
    },
    {
      "cell_type": "code",
      "execution_count": 2,
      "metadata": {
        "id": "Rim8iocC1Vva"
      },
      "outputs": [],
      "source": [
        "import gymnasium as gym\n",
        "import torch\n",
        "import torch.nn as nn\n",
        "import torch.nn.functional as F\n",
        "from itertools import chain\n",
        "import matplotlib.pyplot as plt\n",
        "from tqdm import tqdm\n",
        "import random\n",
        "from torch.utils.data import Dataset, DataLoader\n",
        "import numpy as np\n",
        "\n",
        "from gymnasium import logger as gymlogger\n",
        "from gymnasium.wrappers import RecordVideo\n",
        "gymlogger.min_level = 40 # Error only\n",
        "\n",
        "import glob\n",
        "import io\n",
        "import base64\n",
        "from IPython.display import HTML\n",
        "from IPython import display as ipythondisplay"
      ]
    },
    {
      "cell_type": "code",
      "execution_count": 3,
      "metadata": {
        "colab": {
          "base_uri": "https://localhost:8080/"
        },
        "id": "l1f8lZp19Lwj",
        "outputId": "aa492b70-6e35-4f15-f656-f2f8a0421e47"
      },
      "outputs": [
        {
          "output_type": "execute_result",
          "data": {
            "text/plain": [
              "<pyvirtualdisplay.display.Display at 0x7e5584ca9ae0>"
            ]
          },
          "metadata": {},
          "execution_count": 3
        }
      ],
      "source": [
        "from pyvirtualdisplay import Display\n",
        "display = Display(visible=0, size=(1400,900))\n",
        "display.start()"
      ]
    },
    {
      "cell_type": "code",
      "execution_count": 4,
      "metadata": {
        "id": "_TI_5c0l9Ojv"
      },
      "outputs": [],
      "source": [
        "def show_video():\n",
        "  mp4list = glob.glob('video/*.mp4')\n",
        "  if len(mp4list) > 0:\n",
        "    mp4 = mp4list[0]\n",
        "    video = io.open(mp4, 'r+b').read()\n",
        "    encoded = base64.b64encode(video)\n",
        "    ipythondisplay.display(HTML(data='''<video alt=\"test\" autoplay\n",
        "                loop controls style=\"height: 400px;\">\n",
        "                <source src=\"data:video/mp4;base64,{0}\" type=\"video/mp4\" />\n",
        "             </video>'''.format(encoded.decode('ascii'))))\n",
        "  else:\n",
        "    print(\"Could not find video\")\n",
        "\n",
        "def wrap_env(env):\n",
        "  env = RecordVideo(env, './video')\n",
        "  return env"
      ]
    },
    {
      "cell_type": "markdown",
      "metadata": {
        "id": "mV282uYJ2aSw"
      },
      "source": [
        "## DQN"
      ]
    },
    {
      "cell_type": "markdown",
      "metadata": {
        "id": "Qi_aDdTg2btp"
      },
      "source": [
        "## Part 1\n",
        "\n",
        "\n",
        "Deep Q-Network (https://www.cs.toronto.edu/~vmnih/docs/dqn.pdf) is a Q-learning algorithm that learns values for state-action pairs.\n",
        "\n",
        "Actions are sampled according to an $\\epsilon-greedy$ policy to help with exploration of the state space. Every time an action is sampled, the agent chooses a random action with $\\epsilon$ probability. Otherwise, the agent selects the action with the highest Q-value for a state. $\\epsilon$ decays over time according to $\\epsilon \\gets \\epsilon * epsilon\\_decay$.\n",
        "\n",
        "Tuples of state, action, reward, next_state, and terminal $(s,a,r,s',d)$ are collected during training. Every $learn\\_frequency$ steps $sample\\_size$ tuples are sampled and made into 5 tensors tensors of states, actions, rewarads, next_states, and terminals.\n",
        "\n",
        "The loss for a batch of size N is given below.\n",
        "\n",
        "$Loss=\\frac{1}{N}\\sum \\bigg(Q(s,a) - (r + \\gamma \\underset{a'\\sim A}{max} \\hat{Q}(s',a')(1-d))\\bigg)^2 $\n",
        "\n",
        "Loss is calculated and used to update the Q-Network. The target network $\\hat{Q}$ begins as a copy of the Q network but is not updated by the optimizer. Every $target\\_update$ steps, the target network is updated with the parameters of the Q-Network. This process is a type of bootstrapping.\n",
        "\n",
        "### TODO\n",
        "\n",
        "- Implement get action method with e-greedy policy\n",
        "- Implement sample batch method\n",
        "- Implement DQN learning algorithm\n",
        "\n"
      ]
    },
    {
      "cell_type": "code",
      "execution_count": 5,
      "metadata": {
        "id": "_mBUvXkT2dHy"
      },
      "outputs": [],
      "source": [
        "def get_action_dqn(network, state, epsilon, epsilon_decay):\n",
        "  \"\"\"Select action according to e-greedy policy and decay epsilon\n",
        "    Args:\n",
        "        network (QNetwork): Q-Network\n",
        "        state (np-array): current state, size (state_size)\n",
        "        epsilon (float): probability of choosing a random action\n",
        "        epsilon_decay (float): amount by which to decay epsilon\n",
        "\n",
        "    Returns:\n",
        "        action (int): chosen action [0, action_size)\n",
        "        epsilon (float): decayed epsilon\n",
        "  \"\"\"\n",
        "  if random.random() < epsilon:\n",
        "    # Explore / random action\n",
        "    action = np.random.choice([0, 1])\n",
        "  else:\n",
        "    # Exploit / greedy action\n",
        "    state = torch.tensor(state, dtype=torch.float).cuda()\n",
        "    q_values = network(state)\n",
        "    action = torch.argmax(q_values).item()  # Revisit\n",
        "\n",
        "  epsilon *= epsilon_decay\n",
        "\n",
        "  return action, epsilon\n",
        "\n",
        "\n",
        "def prepare_batch(memory, batch_size):\n",
        "  \"\"\"Randomly sample batch from memory\n",
        "     Prepare cuda tensors\n",
        "\n",
        "    Args:\n",
        "        memory (list): state, action, next_state, reward, done tuples\n",
        "        batch_size (int): amount of memory to sample into a batch\n",
        "\n",
        "    Returns:\n",
        "        state (tensor): float cuda tensor of size (batch_size x state_size)\n",
        "        action (tensor): long tensor of size (batch_size)\n",
        "        next_state (tensor): float cuda tensor of size (batch_size x state_size)\n",
        "        reward (tensor): float cuda tensor of size (batch_size)\n",
        "        done (tensor): float cuda tensor of size (batch_size)\n",
        "  \"\"\"\n",
        "  batch = random.sample(memory, batch_size)\n",
        "  states, actions, next_states, rewards, dones = zip(*batch)  # Revisit\n",
        "\n",
        "  states = torch.tensor(states, dtype=torch.float).cuda()\n",
        "  actions = torch.tensor(actions, dtype=torch.long).cuda()\n",
        "  next_states = torch.tensor(next_states, dtype=torch.float).cuda()\n",
        "  rewards = torch.tensor(rewards, dtype=torch.float).cuda()\n",
        "  dones = torch.tensor(dones, dtype=torch.float).cuda()\n",
        "\n",
        "  return states, actions, next_states, rewards, dones\n",
        "\n",
        "\n",
        "def learn_dqn(batch, optim, q_network, target_network, gamma, global_step, target_update):\n",
        "  \"\"\"Update Q-Network according to DQN Loss function\n",
        "     Update Target Network every target_update global steps\n",
        "\n",
        "    Args:\n",
        "        batch (tuple): tuple of state, action, next_state, reward, and done tensors\n",
        "        optim (Adam): Q-Network optimizer\n",
        "        q_network (QNetwork): Q-Network\n",
        "        target_network (QNetwork): Target Q-Network\n",
        "        gamma (float): discount factor\n",
        "        global_step (int): total steps taken in environment\n",
        "        target_update (int): frequency of target network update\n",
        "  \"\"\"\n",
        "  states, actions, next_states, rewards, dones = batch\n",
        "\n",
        "  q_values = q_network(states)\n",
        "  q_values = q_values.gather(1, actions.unsqueeze(1)).squeeze(1)  # Revisit\n",
        "\n",
        "  next_q_values = target_network(next_states)\n",
        "  next_q_value = next_q_values.max(dim=1)[0]\n",
        "\n",
        "  target_q_values = rewards + gamma * next_q_value * (1 - dones)\n",
        "  loss = F.mse_loss(q_values, target_q_values.detach())  # Revisit\n",
        "\n",
        "  optim.zero_grad()\n",
        "  loss.backward()\n",
        "  optim.step()\n",
        "\n",
        "  if global_step % target_update == 0:\n",
        "    target_network.load_state_dict(q_network.state_dict())  # Revisit\n"
      ]
    },
    {
      "cell_type": "markdown",
      "metadata": {
        "id": "vGQgiY0WvImB"
      },
      "source": [
        "### Modules"
      ]
    },
    {
      "cell_type": "code",
      "execution_count": 6,
      "metadata": {
        "id": "1vMhl-oevIBo"
      },
      "outputs": [],
      "source": [
        "# Q-Value Network\n",
        "class QNetwork(nn.Module):\n",
        "  def __init__(self, state_size, action_size):\n",
        "    super().__init__()\n",
        "    hidden_size = 8\n",
        "\n",
        "    self.net = nn.Sequential(nn.Linear(state_size, hidden_size),\n",
        "                             nn.ReLU(),\n",
        "                             nn.Linear(hidden_size, hidden_size),\n",
        "                             nn.ReLU(),\n",
        "                             nn.Linear(hidden_size, hidden_size),\n",
        "                             nn.ReLU(),\n",
        "                             nn.Linear(hidden_size, action_size))\n",
        "\n",
        "  def forward(self, x):\n",
        "    \"\"\"Estimate q-values given state\n",
        "\n",
        "      Args:\n",
        "          state (tensor): current state, size (batch x state_size)\n",
        "\n",
        "      Returns:\n",
        "          q-values (tensor): estimated q-values, size (batch x action_size)\n",
        "    \"\"\"\n",
        "    return self.net(x)"
      ]
    },
    {
      "cell_type": "markdown",
      "metadata": {
        "id": "yCafVI552dgg"
      },
      "source": [
        "### Main"
      ]
    },
    {
      "cell_type": "code",
      "execution_count": 7,
      "metadata": {
        "id": "8Sy_r9Wr2eg8",
        "colab": {
          "base_uri": "https://localhost:8080/",
          "height": 475
        },
        "outputId": "af325051-dcee-48cc-ba5d-b9e61ad04975"
      },
      "outputs": [
        {
          "output_type": "stream",
          "name": "stderr",
          "text": [
            "Episodes: 40 Reward: 20.0:   8%|▊         | 41/500 [00:00<00:04, 100.70it/s]<ipython-input-5-fd9fb7abfc67>:45: UserWarning: Creating a tensor from a list of numpy.ndarrays is extremely slow. Please consider converting the list to a single numpy.ndarray with numpy.array() before converting to a tensor. (Triggered internally at ../torch/csrc/utils/tensor_new.cpp:278.)\n",
            "  states = torch.tensor(states, dtype=torch.float).cuda()\n"
          ]
        },
        {
          "output_type": "display_data",
          "data": {
            "text/plain": [
              "<IPython.core.display.HTML object>"
            ],
            "text/html": [
              "<video alt=\"test\" autoplay\n",
              "                loop controls style=\"height: 400px;\">\n",
              "                <source src=\"data:video/mp4;base64,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\" type=\"video/mp4\" />\n",
              "             </video>"
            ]
          },
          "metadata": {}
        }
      ],
      "source": [
        "def dqn_main():\n",
        "  # Hyper parameters\n",
        "  lr = 1e-3\n",
        "  epochs = 500\n",
        "  start_training = 1000\n",
        "  gamma = 0.99\n",
        "  batch_size = 32\n",
        "  epsilon = 1\n",
        "  epsilon_decay = .9999\n",
        "  target_update = 1000\n",
        "  learn_frequency = 2\n",
        "\n",
        "  # Init environment\n",
        "  state_size = 4\n",
        "  action_size = 2\n",
        "  env = gym.make('CartPole-v1', render_mode=\"rgb_array\")\n",
        "\n",
        "  # Init networks\n",
        "  q_network = QNetwork(state_size, action_size).cuda()\n",
        "  target_network = QNetwork(state_size, action_size).cuda()\n",
        "  target_network.load_state_dict(q_network.state_dict())\n",
        "\n",
        "  # Init optimizer\n",
        "  optim = torch.optim.Adam(q_network.parameters(), lr=lr)\n",
        "\n",
        "  # Init replay buffer\n",
        "  memory = []\n",
        "\n",
        "  # Begin main loop\n",
        "  results_dqn = []\n",
        "  global_step = 0\n",
        "  loop = tqdm(total=epochs, position=0, leave=False)\n",
        "  for epoch in range(epochs):\n",
        "    last_epoch = (epoch+1 == epochs)\n",
        "    # Record the last epoch, not the previous epochs\n",
        "    if last_epoch:\n",
        "      env = wrap_env(env)\n",
        "\n",
        "    # Reset environment\n",
        "    state, _ = env.reset()\n",
        "    done = False\n",
        "    cum_reward = 0  # Track cumulative reward per episode\n",
        "\n",
        "    # Begin episode\n",
        "    while not done and cum_reward < 200:  # End after 200 steps\n",
        "      # Select e-greedy action\n",
        "      action, epsilon = get_action_dqn(q_network, state, epsilon, epsilon_decay)\n",
        "\n",
        "      # Take step\n",
        "      next_state, reward, terminated, truncated, _ = env.step(action)\n",
        "      done = terminated or truncated\n",
        "      # env.render()\n",
        "\n",
        "      # Store step in replay buffer\n",
        "      memory.append((state, action, next_state, reward, done))\n",
        "\n",
        "      cum_reward += reward\n",
        "      global_step += 1  # Increment total steps\n",
        "      state = next_state  # Set current state\n",
        "\n",
        "      # If time to train\n",
        "      if global_step > start_training and global_step % learn_frequency == 0:\n",
        "\n",
        "        # Sample batch\n",
        "        batch = prepare_batch(memory, batch_size)\n",
        "\n",
        "        # Train\n",
        "        learn_dqn(batch, optim, q_network, target_network, gamma, global_step, target_update)\n",
        "    env.close()\n",
        "    # Print results at end of episode\n",
        "    results_dqn.append(cum_reward)\n",
        "    loop.update(1)\n",
        "    loop.set_description('Episodes: {} Reward: {}'.format(epoch, cum_reward))\n",
        "\n",
        "  return results_dqn\n",
        "\n",
        "results_dqn = dqn_main()\n",
        "show_video()"
      ]
    },
    {
      "cell_type": "code",
      "execution_count": 8,
      "metadata": {
        "id": "ZWYwytCDC3aw",
        "colab": {
          "base_uri": "https://localhost:8080/",
          "height": 430
        },
        "outputId": "db229357-044e-4956-b10a-b4721d863e98"
      },
      "outputs": [
        {
          "output_type": "display_data",
          "data": {
            "text/plain": [
              "<Figure size 640x480 with 1 Axes>"
            ],
            "image/png": "[encoded data removed]"
          },
          "metadata": {}
        }
      ],
      "source": [
        "plt.plot(results_dqn)\n",
        "plt.show()"
      ]
    },
    {
      "cell_type": "markdown",
      "metadata": {
        "id": "qN9yy5EWVNz0"
      },
      "source": [
        "## PPO"
      ]
    },
    {
      "cell_type": "markdown",
      "metadata": {
        "id": "XvRUJUew0yN_"
      },
      "source": [
        "## Part 2\n",
        "\n",
        "Proximal Policy Optimization (https://arxiv.org/pdf/1707.06347.pdf) is a type of policy gradient method. Instead of calculating Q-values, we train a network $\\pi$ to optimize the probability of taking good actions directly, using states as inputs and actions as outputs. PPO also uses a value network $V$ that estimates state values in order to estimate the advantage $\\hat{A}$.\n",
        "\n",
        "Tuples of state, action distribution, action taken, and return $(s,\\pi(s), a,\\hat{R})$ are gathered for several rollouts. After training on this experience, these tuples are discarded and new experience is gathered.\n",
        "\n",
        "Loss for the value network and the policy network are calculated according to the following formula:\n",
        "\n",
        "$Loss=ValueLoss+PolicyLoss$\n",
        "\n",
        "$ValueLoss=\\frac{1}{N}\\sum \\bigg(\\hat{R} - V(s) \\bigg)^2 $\n",
        "\n",
        "$PolicyLoss=-\\frac{1}{N}\\sum \\min\\bigg( \\frac{\\pi'(a|s)}{\\pi(a|s)} \\hat{A}, clip(\\frac{\\pi'(a|s)}{\\pi(a|s)},1-\\epsilon,1+\\epsilon) \\hat{A} \\bigg) $\n",
        "\n",
        "$\\hat{R}_t = \\sum_{i=t}^H \\gamma^{i-t}r_i$\n",
        "\n",
        "$\\hat{A}_t=\\hat{R}_t-V(s_t)$\n",
        "\n",
        "Here, $\\pi'(a|s)$ is the probability of taking an action given a state under the current policy and $\\pi(a|s)$ is the probability of taking an action given a state under the policy used to gather data. In the loss function, $a$ is the action your agent actually took and is sampled from memory.\n",
        "\n",
        "Additionally, the $clip$ function clips the value of the first argument according to the lower and upper bounds in the second and third arguments resectively.\n",
        "\n",
        "Another important note: Your the calculation of your advantage $\\hat{A}$ should not permit gradient flow from your policy loss calculation. In other words, make sure to call `.detach()` on your advantage.\n",
        "\n",
        "### TODO\n",
        "\n",
        "- Implement calculate return method\n",
        "- Implement get action method\n",
        "- Implement PPO learning algorithm"
      ]
    },
    {
      "cell_type": "code",
      "execution_count": 29,
      "metadata": {
        "id": "zsm1pILHVcEp"
      },
      "outputs": [],
      "source": [
        "def calculate_return(memory, rollout, gamma):\n",
        "  \"\"\"Return memory with calculated return in experience tuple\n",
        "\n",
        "    Args:\n",
        "        memory (list): (state, action, action_dist, return) tuples\n",
        "        rollout (list): (state, action, action_dist, reward) tuples from last rollout\n",
        "        gamma (float): discount factor\n",
        "\n",
        "    Returns:\n",
        "        list: memory updated with (state, action, action_dist, return) tuples from rollout\n",
        "  \"\"\"\n",
        "\n",
        "  R = 0\n",
        "  updated_rollout = []\n",
        "\n",
        "  for state, action, action_dist, reward in reversed(rollout):\n",
        "    R = reward + gamma * R\n",
        "    updated_rollout.append((state, action, action_dist, R))\n",
        "\n",
        "  memory.extend(reversed(updated_rollout))\n",
        "\n",
        "  return memory\n",
        "\n",
        "\n",
        "def get_action_ppo(network, state):\n",
        "  \"\"\"Sample action from the distribution obtained from the policy network\n",
        "\n",
        "    Args:\n",
        "        network (PolicyNetwork): Policy Network\n",
        "        state (np-array): current state, size (state_size)\n",
        "\n",
        "    Returns:\n",
        "        int: action sampled from output distribution of policy network\n",
        "        array: output distribution of policy network\n",
        "  \"\"\"\n",
        "  state = torch.tensor(state, dtype=torch.float).unsqueeze(0).cuda()\n",
        "  distribution = network(state)\n",
        "  action = torch.multinomial(distribution, 1).item()\n",
        "  return action, distribution\n",
        "\n",
        "\n",
        "def learn_ppo(optim, policy, value, memory_dataloader, epsilon, policy_epochs):\n",
        "  \"\"\"Implement PPO policy and value network updates. Iterate over your entire\n",
        "     memory the number of times indicated by policy_epochs.\n",
        "\n",
        "    Args:\n",
        "        optim (Adam): value and policy optimizer\n",
        "        policy (PolicyNetwork): Policy Network\n",
        "        value (ValueNetwork): Value Network\n",
        "        memory_dataloader (DataLoader): dataloader with (state, action, action_dist, return) tensors\n",
        "        epsilon (float): trust region\n",
        "        policy_epochs (int): number of times to iterate over all memory\n",
        "  \"\"\"\n",
        "  for epoch in range(policy_epochs):\n",
        "    for states, actions, distributions, returns in memory_dataloader:\n",
        "      states = states.cuda()\n",
        "      actions = actions.cuda()\n",
        "      distributions = distributions.cuda()\n",
        "      returns = returns.cuda()\n",
        "\n",
        "      new_distributions = policy(states)\n",
        "\n",
        "      ratios = new_distributions / distributions\n",
        "\n",
        "      values = value(states).squeeze()  # Revisit\n",
        "      advantages = returns - values\n",
        "      advantages = advantages.detach()\n",
        "\n",
        "      loss1 = ratios * advantages\n",
        "      loss2 = torch.clamp(ratios, 1 - epsilon, 1 + epsilon) * advantages\n",
        "      policy_loss = torch.mean(-torch.min(loss1, loss2))\n",
        "      value_loss = F.mse_loss(values, returns)\n",
        "      loss = policy_loss + value_loss\n",
        "\n",
        "      optim.zero_grad()\n",
        "      loss.backward()\n",
        "      optim.step()\n"
      ]
    },
    {
      "cell_type": "markdown",
      "metadata": {
        "id": "R6RXma_-vSGX"
      },
      "source": [
        "### Modules"
      ]
    },
    {
      "cell_type": "code",
      "execution_count": 30,
      "metadata": {
        "id": "L8URnP8xvTTG"
      },
      "outputs": [],
      "source": [
        "# Dataset that wraps memory for a dataloader\n",
        "class RLDataset(Dataset):\n",
        "  def __init__(self, data):\n",
        "    super().__init__()\n",
        "    self.data = []\n",
        "    for d in data:\n",
        "      self.data.append(d)\n",
        "\n",
        "  def __getitem__(self, index):\n",
        "    return self.data[index]\n",
        "\n",
        "  def __len__(self):\n",
        "    return len(self.data)\n",
        "\n",
        "\n",
        "# Policy Network\n",
        "class PolicyNetwork(nn.Module):\n",
        "  def __init__(self, state_size, action_size):\n",
        "    super().__init__()\n",
        "    hidden_size = 8\n",
        "\n",
        "    self.net = nn.Sequential(nn.Linear(state_size, hidden_size),\n",
        "                             nn.ReLU(),\n",
        "                             nn.Linear(hidden_size, hidden_size),\n",
        "                             nn.ReLU(),\n",
        "                             nn.Linear(hidden_size, hidden_size),\n",
        "                             nn.ReLU(),\n",
        "                             nn.Linear(hidden_size, action_size),\n",
        "                             nn.Softmax(dim=1))\n",
        "\n",
        "  def forward(self, x):\n",
        "    \"\"\"Get policy from state\n",
        "\n",
        "      Args:\n",
        "          state (tensor): current state, size (batch x state_size)\n",
        "\n",
        "      Returns:\n",
        "          action_dist (tensor): probability distribution over actions (batch x action_size)\n",
        "    \"\"\"\n",
        "    return self.net(x)\n",
        "\n",
        "\n",
        "# Value Network\n",
        "class ValueNetwork(nn.Module):\n",
        "  def __init__(self, state_size):\n",
        "    super().__init__()\n",
        "    hidden_size = 8\n",
        "\n",
        "    self.net = nn.Sequential(nn.Linear(state_size, hidden_size),\n",
        "                             nn.ReLU(),\n",
        "                             nn.Linear(hidden_size, hidden_size),\n",
        "                             nn.ReLU(),\n",
        "                             nn.Linear(hidden_size, hidden_size),\n",
        "                             nn.ReLU(),\n",
        "                             nn.Linear(hidden_size, 1))\n",
        "\n",
        "  def forward(self, x):\n",
        "    \"\"\"Estimate value given state\n",
        "\n",
        "      Args:\n",
        "          state (tensor): current state, size (batch x state_size)\n",
        "\n",
        "      Returns:\n",
        "          value (tensor): estimated value, size (batch)\n",
        "    \"\"\"\n",
        "    return self.net(x)"
      ]
    },
    {
      "cell_type": "markdown",
      "metadata": {
        "id": "_aBD_R_e01Qb"
      },
      "source": [
        "### Main"
      ]
    },
    {
      "cell_type": "code",
      "execution_count": 31,
      "metadata": {
        "id": "qX_Bv4M4MyY2",
        "colab": {
          "base_uri": "https://localhost:8080/",
          "height": 350
        },
        "outputId": "774dcd63-93ca-49a2-d68d-554329a9f69f"
      },
      "outputs": [
        {
          "output_type": "stream",
          "name": "stderr",
          "text": [
            "\r  0%|          | 0/20 [00:00<?, ?it/s]"
          ]
        },
        {
          "output_type": "error",
          "ename": "RuntimeError",
          "evalue": "The size of tensor a (2) must match the size of tensor b (256) at non-singleton dimension 2",
          "traceback": [
            "\u001b[0;31m---------------------------------------------------------------------------\u001b[0m",
            "\u001b[0;31mRuntimeError\u001b[0m                              Traceback (most recent call last)",
            "\u001b[0;32m<ipython-input-31-c3ab91921085>\u001b[0m in \u001b[0;36m<cell line: 77>\u001b[0;34m()\u001b[0m\n\u001b[1;32m     75\u001b[0m   \u001b[0;32mreturn\u001b[0m \u001b[0mresults_ppo\u001b[0m\u001b[0;34m\u001b[0m\u001b[0;34m\u001b[0m\u001b[0m\n\u001b[1;32m     76\u001b[0m \u001b[0;34m\u001b[0m\u001b[0m\n\u001b[0;32m---> 77\u001b[0;31m \u001b[0mresults_ppo\u001b[0m \u001b[0;34m=\u001b[0m \u001b[0mppo_main\u001b[0m\u001b[0;34m(\u001b[0m\u001b[0;34m)\u001b[0m\u001b[0;34m\u001b[0m\u001b[0;34m\u001b[0m\u001b[0m\n\u001b[0m\u001b[1;32m     78\u001b[0m \u001b[0mshow_video\u001b[0m\u001b[0;34m(\u001b[0m\u001b[0;34m)\u001b[0m\u001b[0;34m\u001b[0m\u001b[0;34m\u001b[0m\u001b[0m\n",
            "\u001b[0;32m<ipython-input-31-c3ab91921085>\u001b[0m in \u001b[0;36mppo_main\u001b[0;34m()\u001b[0m\n\u001b[1;32m     66\u001b[0m     \u001b[0mdataset\u001b[0m \u001b[0;34m=\u001b[0m \u001b[0mRLDataset\u001b[0m\u001b[0;34m(\u001b[0m\u001b[0mmemory\u001b[0m\u001b[0;34m)\u001b[0m\u001b[0;34m\u001b[0m\u001b[0;34m\u001b[0m\u001b[0m\n\u001b[1;32m     67\u001b[0m     \u001b[0mloader\u001b[0m \u001b[0;34m=\u001b[0m \u001b[0mDataLoader\u001b[0m\u001b[0;34m(\u001b[0m\u001b[0mdataset\u001b[0m\u001b[0;34m,\u001b[0m \u001b[0mbatch_size\u001b[0m\u001b[0;34m=\u001b[0m\u001b[0mbatch_size\u001b[0m\u001b[0;34m,\u001b[0m \u001b[0mshuffle\u001b[0m\u001b[0;34m=\u001b[0m\u001b[0;32mTrue\u001b[0m\u001b[0;34m)\u001b[0m\u001b[0;34m\u001b[0m\u001b[0;34m\u001b[0m\u001b[0m\n\u001b[0;32m---> 68\u001b[0;31m     \u001b[0mlearn_ppo\u001b[0m\u001b[0;34m(\u001b[0m\u001b[0moptim\u001b[0m\u001b[0;34m,\u001b[0m \u001b[0mpolicy_network\u001b[0m\u001b[0;34m,\u001b[0m \u001b[0mvalue_network\u001b[0m\u001b[0;34m,\u001b[0m \u001b[0mloader\u001b[0m\u001b[0;34m,\u001b[0m \u001b[0mepsilon\u001b[0m\u001b[0;34m,\u001b[0m \u001b[0mpolicy_epochs\u001b[0m\u001b[0;34m)\u001b[0m\u001b[0;34m\u001b[0m\u001b[0;34m\u001b[0m\u001b[0m\n\u001b[0m\u001b[1;32m     69\u001b[0m \u001b[0;34m\u001b[0m\u001b[0m\n\u001b[1;32m     70\u001b[0m     \u001b[0;31m# Print results\u001b[0m\u001b[0;34m\u001b[0m\u001b[0;34m\u001b[0m\u001b[0m\n",
            "\u001b[0;32m<ipython-input-29-badca012f2ac>\u001b[0m in \u001b[0;36mlearn_ppo\u001b[0;34m(optim, policy, value, memory_dataloader, epsilon, policy_epochs)\u001b[0m\n\u001b[1;32m     67\u001b[0m       \u001b[0madvantages\u001b[0m \u001b[0;34m=\u001b[0m \u001b[0madvantages\u001b[0m\u001b[0;34m.\u001b[0m\u001b[0mdetach\u001b[0m\u001b[0;34m(\u001b[0m\u001b[0;34m)\u001b[0m\u001b[0;34m\u001b[0m\u001b[0;34m\u001b[0m\u001b[0m\n\u001b[1;32m     68\u001b[0m \u001b[0;34m\u001b[0m\u001b[0m\n\u001b[0;32m---> 69\u001b[0;31m       \u001b[0mloss1\u001b[0m \u001b[0;34m=\u001b[0m \u001b[0mratios\u001b[0m \u001b[0;34m*\u001b[0m \u001b[0madvantages\u001b[0m\u001b[0;34m\u001b[0m\u001b[0;34m\u001b[0m\u001b[0m\n\u001b[0m\u001b[1;32m     70\u001b[0m       \u001b[0mloss2\u001b[0m \u001b[0;34m=\u001b[0m \u001b[0mtorch\u001b[0m\u001b[0;34m.\u001b[0m\u001b[0mclamp\u001b[0m\u001b[0;34m(\u001b[0m\u001b[0mratios\u001b[0m\u001b[0;34m,\u001b[0m \u001b[0;36m1\u001b[0m \u001b[0;34m-\u001b[0m \u001b[0mepsilon\u001b[0m\u001b[0;34m,\u001b[0m \u001b[0;36m1\u001b[0m \u001b[0;34m+\u001b[0m \u001b[0mepsilon\u001b[0m\u001b[0;34m)\u001b[0m \u001b[0;34m*\u001b[0m \u001b[0madvantages\u001b[0m\u001b[0;34m\u001b[0m\u001b[0;34m\u001b[0m\u001b[0m\n\u001b[1;32m     71\u001b[0m       \u001b[0mpolicy_loss\u001b[0m \u001b[0;34m=\u001b[0m \u001b[0mtorch\u001b[0m\u001b[0;34m.\u001b[0m\u001b[0mmean\u001b[0m\u001b[0;34m(\u001b[0m\u001b[0;34m-\u001b[0m\u001b[0mtorch\u001b[0m\u001b[0;34m.\u001b[0m\u001b[0mmin\u001b[0m\u001b[0;34m(\u001b[0m\u001b[0mloss1\u001b[0m\u001b[0;34m,\u001b[0m \u001b[0mloss2\u001b[0m\u001b[0;34m)\u001b[0m\u001b[0;34m)\u001b[0m\u001b[0;34m\u001b[0m\u001b[0;34m\u001b[0m\u001b[0m\n",
            "\u001b[0;31mRuntimeError\u001b[0m: The size of tensor a (2) must match the size of tensor b (256) at non-singleton dimension 2"
          ]
        }
      ],
      "source": [
        "def ppo_main():\n",
        "  # Hyper parameters\n",
        "  lr = 1e-3\n",
        "  epochs = 20\n",
        "  env_samples = 100\n",
        "  gamma = 0.9\n",
        "  batch_size = 256\n",
        "  epsilon = 0.2\n",
        "  policy_epochs = 5\n",
        "\n",
        "  # Init environment\n",
        "  state_size = 4\n",
        "  action_size = 2\n",
        "  env = gym.make('CartPole-v1', render_mode=\"rgb_array\")\n",
        "\n",
        "  # Init networks\n",
        "  policy_network = PolicyNetwork(state_size, action_size).cuda()\n",
        "  value_network = ValueNetwork(state_size).cuda()\n",
        "\n",
        "  # Init optimizer\n",
        "  optim = torch.optim.Adam(chain(policy_network.parameters(), value_network.parameters()), lr=lr)\n",
        "\n",
        "  # Start main loop\n",
        "  results_ppo = []\n",
        "  loop = tqdm(total=epochs, position=0, leave=False)\n",
        "  for epoch in range(epochs):\n",
        "    last_epoch = (epoch+1 == epochs)\n",
        "    # Record only last epoch\n",
        "    if last_epoch:\n",
        "      env = wrap_env(env)\n",
        "\n",
        "    memory = []  # Reset memory every epoch\n",
        "    rewards = []  # Calculate average episodic reward per epoch\n",
        "\n",
        "    # Begin experience loop\n",
        "    for episode in range(env_samples):\n",
        "\n",
        "      # Reset environment\n",
        "      state, _ = env.reset()\n",
        "      done = False\n",
        "      rollout = []\n",
        "      cum_reward = 0  # Track cumulative reward\n",
        "\n",
        "      # Begin episode\n",
        "      while not done and cum_reward < 200:  # End after 200 steps\n",
        "        # Get action\n",
        "        action, action_dist = get_action_ppo(policy_network, state)\n",
        "\n",
        "        # Take step\n",
        "        next_state, reward, terminated, truncated, _ = env.step(action)\n",
        "        done = terminated or truncated\n",
        "        # env.render()\n",
        "\n",
        "        # Store step\n",
        "        rollout.append((state, action, action_dist, reward))\n",
        "\n",
        "        cum_reward += reward\n",
        "        state = next_state  # Set current state\n",
        "\n",
        "      # Calculate returns and add episode to memory\n",
        "      memory = calculate_return(memory, rollout, gamma)\n",
        "\n",
        "      rewards.append(cum_reward)\n",
        "      env.close()\n",
        "    # Train\n",
        "    dataset = RLDataset(memory)\n",
        "    loader = DataLoader(dataset, batch_size=batch_size, shuffle=True)\n",
        "    learn_ppo(optim, policy_network, value_network, loader, epsilon, policy_epochs)\n",
        "\n",
        "    # Print results\n",
        "    results_ppo.extend(rewards)  # Store rewards for this epoch\n",
        "    loop.update(1)\n",
        "    loop.set_description(\"Epochs: {} Reward: {}\".format(epoch, results_ppo[-1]))\n",
        "\n",
        "  return results_ppo\n",
        "\n",
        "results_ppo = ppo_main()\n",
        "show_video()"
      ]
    },
    {
      "cell_type": "code",
      "execution_count": null,
      "metadata": {
        "id": "pLXetCMpC1DE"
      },
      "outputs": [],
      "source": [
        "plt.plot(results_ppo)\n",
        "plt.show()"
      ]
    }
  ],
  "metadata": {
    "colab": {
      "provenance": [],
      "gpuType": "T4"
    },
    "kernelspec": {
      "display_name": "Python 3",
      "name": "python3"
    },
    "language_info": {
      "codemirror_mode": {
        "name": "ipython",
        "version": 3
      },
      "file_extension": ".py",
      "mimetype": "text/x-python",
      "name": "python",
      "nbconvert_exporter": "python",
      "pygments_lexer": "ipython3",
      "version": "3.12.1"
    },
    "accelerator": "GPU"
  },
  "nbformat": 4,
  "nbformat_minor": 0
}