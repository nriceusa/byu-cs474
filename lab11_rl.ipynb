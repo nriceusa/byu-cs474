{
  "cells": [
    {
      "cell_type": "markdown",
      "metadata": {
        "id": "6nO8m9UOGEJP"
      },
      "source": [
        "[![Open In Colab](https://colab.research.google.com/assets/colab-badge.svg)](https://github.com/porterjenkins/byu-cs474/blob/master/lab11_rl.ipynb)"
      ]
    },
    {
      "cell_type": "markdown",
      "metadata": {
        "id": "sl7hEuB3J4k3"
      },
      "source": [
        "# Deep Reinforcement Learning\n",
        "\n",
        "## Objective\n",
        "\n",
        "- Build DQN and PPO Deep RL algorithms\n",
        "- Learn the difference between Q Learning and Policy Gradient techniques\n",
        "\n",
        "## Deliverable\n",
        "\n",
        "For this lab you will submit an ipython notebook via learning suite. This lab gives you a lot of code, and you should only need to modify two of the cells of this notebook. Feel free to download and modify this notebook or create your own. The below code is given for your convinience. You can modify any of the given code if you wish.\n",
        "\n",
        "## Tips\n",
        "\n",
        "Deep reinforcement learning is difficult. We provide hyperparameters, visualizations, and code for gathering experience, but require you to code up algorithms for training your networks.\n",
        "\n",
        "- Your networks should be able to demonstrate learning on cartpole within a minute of wall time.\n",
        "\n",
        "- Understand what your the starter code is doing. This will help you with the *TODO* sections. The main code block is similar for the two algorithms with some small yet important differences.\n",
        "\n",
        "- We provide hyperparameters for you to start with. Feel free to experiment with different values, but these worked for us.\n",
        "\n",
        "- **Print dtypes and shapes** throughout your code to make sure your tensors look the way you expect.\n",
        "\n",
        "- The DQN algorithm is significantly more unstable than PPO. Even with a correct implementation it may fail to learn every 1/10 times.\n",
        "\n",
        "- Unfortunately visualizing your agent acting in the environment is non-trivial in Colab. You can visualize your agent by running this code locally and uncommenting the `env.render()` line.\n",
        "\n",
        "## Grading\n",
        "\n",
        "- 40% Part 1: DQN *TODO* methods\n",
        "- 40% Part 2: PPO *TODO* methods\n",
        "- 20% Cartpole learning curves\n",
        "\n",
        "\n",
        "### Cartpole\n",
        "\n",
        "Cartpole is a simple environment to get your agent up and running. It has a continuous state space of 4 dimensions and a discrete action space of 2. The agent is given a reward of 1 for each timestep it remains standing. Your agent should be able to reach close to 200 cumulative reward for an episode after a minute or two of training. The below graphs show example results for dqn (left) and ppo (right).\n",
        "\n",
        "![alt text](https://github.com/wingated/cs474_labs/blob/master/images/dqn.png?raw=true)\n",
        "![alt text](https://github.com/wingated/cs474_labs/blob/master/images/ppo.png?raw=true)\n",
        "\n",
        "### TODO\n",
        "\n",
        "- Train DQN and PPO on cartpole\n",
        "- Display learning curves with average episodic reward per epoch"
      ]
    },
    {
      "cell_type": "markdown",
      "metadata": {
        "id": "gVWokqnVab6O"
      },
      "source": [
        "# Starter Code"
      ]
    },
    {
      "cell_type": "markdown",
      "metadata": {
        "id": "WhaPOG6xt0yn"
      },
      "source": [
        "## Init"
      ]
    },
    {
      "cell_type": "code",
      "execution_count": 1,
      "metadata": {
        "colab": {
          "base_uri": "https://localhost:8080/"
        },
        "id": "EyykNyRM1Tf3",
        "outputId": "f9fb2986-45ac-4342-e74a-64123613a070"
      },
      "outputs": [
        {
          "output_type": "stream",
          "name": "stdout",
          "text": [
            "Collecting gymnasium\n",
            "  Downloading gymnasium-1.0.0-py3-none-any.whl.metadata (9.5 kB)\n",
            "Requirement already satisfied: numpy>=1.21.0 in /usr/local/lib/python3.10/dist-packages (from gymnasium) (1.26.4)\n",
            "Requirement already satisfied: cloudpickle>=1.2.0 in /usr/local/lib/python3.10/dist-packages (from gymnasium) (3.1.0)\n",
            "Requirement already satisfied: typing-extensions>=4.3.0 in /usr/local/lib/python3.10/dist-packages (from gymnasium) (4.12.2)\n",
            "Collecting farama-notifications>=0.0.1 (from gymnasium)\n",
            "  Downloading Farama_Notifications-0.0.4-py3-none-any.whl.metadata (558 bytes)\n",
            "Downloading gymnasium-1.0.0-py3-none-any.whl (958 kB)\n",
            "\u001b[2K   \u001b[90m━━━━━━━━━━━━━━━━━━━━━━━━━━━━━━━━━━━━━━━━\u001b[0m \u001b[32m958.1/958.1 kB\u001b[0m \u001b[31m7.9 MB/s\u001b[0m eta \u001b[36m0:00:00\u001b[0m\n",
            "\u001b[?25hDownloading Farama_Notifications-0.0.4-py3-none-any.whl (2.5 kB)\n",
            "Installing collected packages: farama-notifications, gymnasium\n",
            "Successfully installed farama-notifications-0.0.4 gymnasium-1.0.0\n",
            "Requirement already satisfied: torch in /usr/local/lib/python3.10/dist-packages (2.5.1+cu121)\n",
            "Requirement already satisfied: filelock in /usr/local/lib/python3.10/dist-packages (from torch) (3.16.1)\n",
            "Requirement already satisfied: typing-extensions>=4.8.0 in /usr/local/lib/python3.10/dist-packages (from torch) (4.12.2)\n",
            "Requirement already satisfied: networkx in /usr/local/lib/python3.10/dist-packages (from torch) (3.4.2)\n",
            "Requirement already satisfied: jinja2 in /usr/local/lib/python3.10/dist-packages (from torch) (3.1.4)\n",
            "Requirement already satisfied: fsspec in /usr/local/lib/python3.10/dist-packages (from torch) (2024.10.0)\n",
            "Requirement already satisfied: sympy==1.13.1 in /usr/local/lib/python3.10/dist-packages (from torch) (1.13.1)\n",
            "Requirement already satisfied: mpmath<1.4,>=1.1.0 in /usr/local/lib/python3.10/dist-packages (from sympy==1.13.1->torch) (1.3.0)\n",
            "Requirement already satisfied: MarkupSafe>=2.0 in /usr/local/lib/python3.10/dist-packages (from jinja2->torch) (3.0.2)\n",
            "Requirement already satisfied: pygame in /usr/local/lib/python3.10/dist-packages (2.6.1)\n",
            "Requirement already satisfied: moviepy==1.0.3 in /usr/local/lib/python3.10/dist-packages (1.0.3)\n",
            "Requirement already satisfied: decorator<5.0,>=4.0.2 in /usr/local/lib/python3.10/dist-packages (from moviepy==1.0.3) (4.4.2)\n",
            "Requirement already satisfied: imageio<3.0,>=2.5 in /usr/local/lib/python3.10/dist-packages (from moviepy==1.0.3) (2.36.1)\n",
            "Requirement already satisfied: imageio_ffmpeg>=0.2.0 in /usr/local/lib/python3.10/dist-packages (from moviepy==1.0.3) (0.5.1)\n",
            "Requirement already satisfied: tqdm<5.0,>=4.11.2 in /usr/local/lib/python3.10/dist-packages (from moviepy==1.0.3) (4.66.6)\n",
            "Requirement already satisfied: numpy>=1.17.3 in /usr/local/lib/python3.10/dist-packages (from moviepy==1.0.3) (1.26.4)\n",
            "Requirement already satisfied: requests<3.0,>=2.8.1 in /usr/local/lib/python3.10/dist-packages (from moviepy==1.0.3) (2.32.3)\n",
            "Requirement already satisfied: proglog<=1.0.0 in /usr/local/lib/python3.10/dist-packages (from moviepy==1.0.3) (0.1.10)\n",
            "Requirement already satisfied: pillow>=8.3.2 in /usr/local/lib/python3.10/dist-packages (from imageio<3.0,>=2.5->moviepy==1.0.3) (11.0.0)\n",
            "Requirement already satisfied: setuptools in /usr/local/lib/python3.10/dist-packages (from imageio_ffmpeg>=0.2.0->moviepy==1.0.3) (75.1.0)\n",
            "Requirement already satisfied: charset-normalizer<4,>=2 in /usr/local/lib/python3.10/dist-packages (from requests<3.0,>=2.8.1->moviepy==1.0.3) (3.4.0)\n",
            "Requirement already satisfied: idna<4,>=2.5 in /usr/local/lib/python3.10/dist-packages (from requests<3.0,>=2.8.1->moviepy==1.0.3) (3.10)\n",
            "Requirement already satisfied: urllib3<3,>=1.21.1 in /usr/local/lib/python3.10/dist-packages (from requests<3.0,>=2.8.1->moviepy==1.0.3) (2.2.3)\n",
            "Requirement already satisfied: certifi>=2017.4.17 in /usr/local/lib/python3.10/dist-packages (from requests<3.0,>=2.8.1->moviepy==1.0.3) (2024.8.30)\n",
            "Requirement already satisfied: imageio_ffmpeg in /usr/local/lib/python3.10/dist-packages (0.5.1)\n",
            "Requirement already satisfied: setuptools in /usr/local/lib/python3.10/dist-packages (from imageio_ffmpeg) (75.1.0)\n",
            "Collecting pyvirtualdisplay\n",
            "  Downloading PyVirtualDisplay-3.0-py3-none-any.whl.metadata (943 bytes)\n",
            "Downloading PyVirtualDisplay-3.0-py3-none-any.whl (15 kB)\n",
            "Installing collected packages: pyvirtualdisplay\n",
            "Successfully installed pyvirtualdisplay-3.0\n",
            "Reading package lists... Done\n",
            "Building dependency tree... Done\n",
            "Reading state information... Done\n",
            "ffmpeg is already the newest version (7:4.4.2-0ubuntu0.22.04.1).\n",
            "The following additional packages will be installed:\n",
            "  freeglut3 libfontenc1 libglu1-mesa libxfont2 libxkbfile1 x11-xkb-utils xfonts-base\n",
            "  xfonts-encodings xfonts-utils xserver-common\n",
            "Suggested packages:\n",
            "  libgle3 python3-numpy\n",
            "The following NEW packages will be installed:\n",
            "  freeglut3 libfontenc1 libglu1-mesa libxfont2 libxkbfile1 python3-opengl x11-xkb-utils xfonts-base\n",
            "  xfonts-encodings xfonts-utils xserver-common xvfb\n",
            "0 upgraded, 12 newly installed, 0 to remove and 49 not upgraded.\n",
            "Need to get 8,639 kB of archives.\n",
            "After this operation, 20.0 MB of additional disk space will be used.\n",
            "Get:1 http://archive.ubuntu.com/ubuntu jammy/universe amd64 freeglut3 amd64 2.8.1-6 [74.0 kB]\n",
            "Get:2 http://archive.ubuntu.com/ubuntu jammy/main amd64 libfontenc1 amd64 1:1.1.4-1build3 [14.7 kB]\n",
            "Get:3 http://archive.ubuntu.com/ubuntu jammy/main amd64 libxfont2 amd64 1:2.0.5-1build1 [94.5 kB]\n",
            "Get:4 http://archive.ubuntu.com/ubuntu jammy/main amd64 libxkbfile1 amd64 1:1.1.0-1build3 [71.8 kB]\n",
            "Get:5 http://archive.ubuntu.com/ubuntu jammy/main amd64 libglu1-mesa amd64 9.0.2-1 [145 kB]\n",
            "Get:6 http://archive.ubuntu.com/ubuntu jammy/universe amd64 python3-opengl all 3.1.5+dfsg-1 [605 kB]\n",
            "Get:7 http://archive.ubuntu.com/ubuntu jammy/main amd64 x11-xkb-utils amd64 7.7+5build4 [172 kB]\n",
            "Get:8 http://archive.ubuntu.com/ubuntu jammy/main amd64 xfonts-encodings all 1:1.0.5-0ubuntu2 [578 kB]\n",
            "Get:9 http://archive.ubuntu.com/ubuntu jammy/main amd64 xfonts-utils amd64 1:7.7+6build2 [94.6 kB]\n",
            "Get:10 http://archive.ubuntu.com/ubuntu jammy/main amd64 xfonts-base all 1:1.0.5 [5,896 kB]\n",
            "Get:11 http://archive.ubuntu.com/ubuntu jammy-updates/main amd64 xserver-common all 2:21.1.4-2ubuntu1.7~22.04.12 [28.7 kB]\n",
            "Get:12 http://archive.ubuntu.com/ubuntu jammy-updates/universe amd64 xvfb amd64 2:21.1.4-2ubuntu1.7~22.04.12 [864 kB]\n",
            "Fetched 8,639 kB in 1s (8,460 kB/s)\n",
            "Selecting previously unselected package freeglut3:amd64.\n",
            "(Reading database ... 123632 files and directories currently installed.)\n",
            "Preparing to unpack .../00-freeglut3_2.8.1-6_amd64.deb ...\n",
            "Unpacking freeglut3:amd64 (2.8.1-6) ...\n",
            "Selecting previously unselected package libfontenc1:amd64.\n",
            "Preparing to unpack .../01-libfontenc1_1%3a1.1.4-1build3_amd64.deb ...\n",
            "Unpacking libfontenc1:amd64 (1:1.1.4-1build3) ...\n",
            "Selecting previously unselected package libxfont2:amd64.\n",
            "Preparing to unpack .../02-libxfont2_1%3a2.0.5-1build1_amd64.deb ...\n",
            "Unpacking libxfont2:amd64 (1:2.0.5-1build1) ...\n",
            "Selecting previously unselected package libxkbfile1:amd64.\n",
            "Preparing to unpack .../03-libxkbfile1_1%3a1.1.0-1build3_amd64.deb ...\n",
            "Unpacking libxkbfile1:amd64 (1:1.1.0-1build3) ...\n",
            "Selecting previously unselected package libglu1-mesa:amd64.\n",
            "Preparing to unpack .../04-libglu1-mesa_9.0.2-1_amd64.deb ...\n",
            "Unpacking libglu1-mesa:amd64 (9.0.2-1) ...\n",
            "Selecting previously unselected package python3-opengl.\n",
            "Preparing to unpack .../05-python3-opengl_3.1.5+dfsg-1_all.deb ...\n",
            "Unpacking python3-opengl (3.1.5+dfsg-1) ...\n",
            "Selecting previously unselected package x11-xkb-utils.\n",
            "Preparing to unpack .../06-x11-xkb-utils_7.7+5build4_amd64.deb ...\n",
            "Unpacking x11-xkb-utils (7.7+5build4) ...\n",
            "Selecting previously unselected package xfonts-encodings.\n",
            "Preparing to unpack .../07-xfonts-encodings_1%3a1.0.5-0ubuntu2_all.deb ...\n",
            "Unpacking xfonts-encodings (1:1.0.5-0ubuntu2) ...\n",
            "Selecting previously unselected package xfonts-utils.\n",
            "Preparing to unpack .../08-xfonts-utils_1%3a7.7+6build2_amd64.deb ...\n",
            "Unpacking xfonts-utils (1:7.7+6build2) ...\n",
            "Selecting previously unselected package xfonts-base.\n",
            "Preparing to unpack .../09-xfonts-base_1%3a1.0.5_all.deb ...\n",
            "Unpacking xfonts-base (1:1.0.5) ...\n",
            "Selecting previously unselected package xserver-common.\n",
            "Preparing to unpack .../10-xserver-common_2%3a21.1.4-2ubuntu1.7~22.04.12_all.deb ...\n",
            "Unpacking xserver-common (2:21.1.4-2ubuntu1.7~22.04.12) ...\n",
            "Selecting previously unselected package xvfb.\n",
            "Preparing to unpack .../11-xvfb_2%3a21.1.4-2ubuntu1.7~22.04.12_amd64.deb ...\n",
            "Unpacking xvfb (2:21.1.4-2ubuntu1.7~22.04.12) ...\n",
            "Setting up freeglut3:amd64 (2.8.1-6) ...\n",
            "Setting up libfontenc1:amd64 (1:1.1.4-1build3) ...\n",
            "Setting up xfonts-encodings (1:1.0.5-0ubuntu2) ...\n",
            "Setting up libglu1-mesa:amd64 (9.0.2-1) ...\n",
            "Setting up libxkbfile1:amd64 (1:1.1.0-1build3) ...\n",
            "Setting up libxfont2:amd64 (1:2.0.5-1build1) ...\n",
            "Setting up x11-xkb-utils (7.7+5build4) ...\n",
            "Setting up python3-opengl (3.1.5+dfsg-1) ...\n",
            "Setting up xfonts-utils (1:7.7+6build2) ...\n",
            "Setting up xfonts-base (1:1.0.5) ...\n",
            "Setting up xserver-common (2:21.1.4-2ubuntu1.7~22.04.12) ...\n",
            "Setting up xvfb (2:21.1.4-2ubuntu1.7~22.04.12) ...\n",
            "Processing triggers for man-db (2.10.2-1) ...\n",
            "Processing triggers for fontconfig (2.13.1-4.2ubuntu5) ...\n",
            "Processing triggers for libc-bin (2.35-0ubuntu3.4) ...\n",
            "/sbin/ldconfig.real: /usr/local/lib/libumf.so.0 is not a symbolic link\n",
            "\n",
            "/sbin/ldconfig.real: /usr/local/lib/libtbbbind.so.3 is not a symbolic link\n",
            "\n",
            "/sbin/ldconfig.real: /usr/local/lib/libtcm.so.1 is not a symbolic link\n",
            "\n",
            "/sbin/ldconfig.real: /usr/local/lib/libur_loader.so.0 is not a symbolic link\n",
            "\n",
            "/sbin/ldconfig.real: /usr/local/lib/libtcm_debug.so.1 is not a symbolic link\n",
            "\n",
            "/sbin/ldconfig.real: /usr/local/lib/libtbbbind_2_5.so.3 is not a symbolic link\n",
            "\n",
            "/sbin/ldconfig.real: /usr/local/lib/libtbbbind_2_0.so.3 is not a symbolic link\n",
            "\n",
            "/sbin/ldconfig.real: /usr/local/lib/libur_adapter_level_zero.so.0 is not a symbolic link\n",
            "\n",
            "/sbin/ldconfig.real: /usr/local/lib/libtbbmalloc_proxy.so.2 is not a symbolic link\n",
            "\n",
            "/sbin/ldconfig.real: /usr/local/lib/libtbbmalloc.so.2 is not a symbolic link\n",
            "\n",
            "/sbin/ldconfig.real: /usr/local/lib/libtbb.so.12 is not a symbolic link\n",
            "\n",
            "/sbin/ldconfig.real: /usr/local/lib/libur_adapter_opencl.so.0 is not a symbolic link\n",
            "\n",
            "/sbin/ldconfig.real: /usr/local/lib/libhwloc.so.15 is not a symbolic link\n",
            "\n"
          ]
        }
      ],
      "source": [
        "! pip3 install gymnasium\n",
        "! pip3 install torch\n",
        "! pip install pygame\n",
        "! pip install moviepy==1.0.3\n",
        "! pip install imageio_ffmpeg\n",
        "! pip install pyvirtualdisplay\n",
        "! apt-get install -y xvfb python3-opengl ffmpeg"
      ]
    },
    {
      "cell_type": "code",
      "execution_count": 2,
      "metadata": {
        "id": "Rim8iocC1Vva"
      },
      "outputs": [],
      "source": [
        "import gymnasium as gym\n",
        "import torch\n",
        "import torch.nn as nn\n",
        "import torch.nn.functional as F\n",
        "from itertools import chain\n",
        "import matplotlib.pyplot as plt\n",
        "from tqdm import tqdm\n",
        "import random\n",
        "from torch.utils.data import Dataset, DataLoader\n",
        "import numpy as np\n",
        "\n",
        "from gymnasium import logger as gymlogger\n",
        "from gymnasium.wrappers import RecordVideo\n",
        "gymlogger.min_level = 40 # Error only\n",
        "\n",
        "import glob\n",
        "import io\n",
        "import base64\n",
        "from IPython.display import HTML\n",
        "from IPython import display as ipythondisplay"
      ]
    },
    {
      "cell_type": "code",
      "execution_count": 3,
      "metadata": {
        "colab": {
          "base_uri": "https://localhost:8080/"
        },
        "id": "l1f8lZp19Lwj",
        "outputId": "cc6317db-c7f8-46af-f260-d9e109db53a5"
      },
      "outputs": [
        {
          "output_type": "execute_result",
          "data": {
            "text/plain": [
              "<pyvirtualdisplay.display.Display at 0x7fc9d98a42e0>"
            ]
          },
          "metadata": {},
          "execution_count": 3
        }
      ],
      "source": [
        "from pyvirtualdisplay import Display\n",
        "display = Display(visible=0, size=(1400,900))\n",
        "display.start()"
      ]
    },
    {
      "cell_type": "code",
      "execution_count": 4,
      "metadata": {
        "id": "_TI_5c0l9Ojv"
      },
      "outputs": [],
      "source": [
        "def show_video():\n",
        "  mp4list = glob.glob('video/*.mp4')\n",
        "  if len(mp4list) > 0:\n",
        "    mp4 = mp4list[0]\n",
        "    video = io.open(mp4, 'r+b').read()\n",
        "    encoded = base64.b64encode(video)\n",
        "    ipythondisplay.display(HTML(data='''<video alt=\"test\" autoplay\n",
        "                loop controls style=\"height: 400px;\">\n",
        "                <source src=\"data:video/mp4;base64,{0}\" type=\"video/mp4\" />\n",
        "             </video>'''.format(encoded.decode('ascii'))))\n",
        "  else:\n",
        "    print(\"Could not find video\")\n",
        "\n",
        "def wrap_env(env):\n",
        "  env = RecordVideo(env, './video')\n",
        "  return env"
      ]
    },
    {
      "cell_type": "markdown",
      "metadata": {
        "id": "mV282uYJ2aSw"
      },
      "source": [
        "## DQN"
      ]
    },
    {
      "cell_type": "markdown",
      "metadata": {
        "id": "Qi_aDdTg2btp"
      },
      "source": [
        "## Part 1\n",
        "\n",
        "\n",
        "Deep Q-Network (https://www.cs.toronto.edu/~vmnih/docs/dqn.pdf) is a Q-learning algorithm that learns values for state-action pairs.\n",
        "\n",
        "Actions are sampled according to an $\\epsilon-greedy$ policy to help with exploration of the state space. Every time an action is sampled, the agent chooses a random action with $\\epsilon$ probability. Otherwise, the agent selects the action with the highest Q-value for a state. $\\epsilon$ decays over time according to $\\epsilon \\gets \\epsilon * epsilon\\_decay$.\n",
        "\n",
        "Tuples of state, action, reward, next_state, and terminal $(s,a,r,s',d)$ are collected during training. Every $learn\\_frequency$ steps $sample\\_size$ tuples are sampled and made into 5 tensors tensors of states, actions, rewarads, next_states, and terminals.\n",
        "\n",
        "The loss for a batch of size N is given below.\n",
        "\n",
        "$Loss=\\frac{1}{N}\\sum \\bigg(Q(s,a) - (r + \\gamma \\underset{a'\\sim A}{max} \\hat{Q}(s',a')(1-d))\\bigg)^2 $\n",
        "\n",
        "Loss is calculated and used to update the Q-Network. The target network $\\hat{Q}$ begins as a copy of the Q network but is not updated by the optimizer. Every $target\\_update$ steps, the target network is updated with the parameters of the Q-Network. This process is a type of bootstrapping.\n",
        "\n",
        "### TODO\n",
        "\n",
        "- Implement get action method with e-greedy policy\n",
        "- Implement sample batch method\n",
        "- Implement DQN learning algorithm\n",
        "\n"
      ]
    },
    {
      "cell_type": "code",
      "execution_count": 10,
      "metadata": {
        "id": "_mBUvXkT2dHy"
      },
      "outputs": [],
      "source": [
        "def get_action_dqn(network, state, epsilon, epsilon_decay):\n",
        "  \"\"\"Select action according to e-greedy policy and decay epsilon\n",
        "    Args:\n",
        "        network (QNetwork): Q-Network\n",
        "        state (np-array): current state, size (state_size)\n",
        "        epsilon (float): probability of choosing a random action\n",
        "        epsilon_decay (float): amount by which to decay epsilon\n",
        "\n",
        "    Returns:\n",
        "        action (int): chosen action [0, action_size)\n",
        "        epsilon (float): decayed epsilon\n",
        "  \"\"\"\n",
        "  if random.random() < epsilon:\n",
        "    # Explore / random action\n",
        "    action = np.random.choice([0, 1])\n",
        "  else:\n",
        "    # Exploit / greedy action\n",
        "    state = torch.tensor(state, dtype=torch.float).cuda()\n",
        "    q_values = network(state)\n",
        "    action = torch.argmax(q_values).item()  # Revisit\n",
        "\n",
        "  epsilon *= epsilon_decay\n",
        "\n",
        "  return action, epsilon\n",
        "\n",
        "\n",
        "def prepare_batch(memory, batch_size):\n",
        "  \"\"\"Randomly sample batch from memory\n",
        "     Prepare cuda tensors\n",
        "\n",
        "    Args:\n",
        "        memory (list): state, action, next_state, reward, done tuples\n",
        "        batch_size (int): amount of memory to sample into a batch\n",
        "\n",
        "    Returns:\n",
        "        state (tensor): float cuda tensor of size (batch_size x state_size)\n",
        "        action (tensor): long tensor of size (batch_size)\n",
        "        next_state (tensor): float cuda tensor of size (batch_size x state_size)\n",
        "        reward (tensor): float cuda tensor of size (batch_size)\n",
        "        done (tensor): float cuda tensor of size (batch_size)\n",
        "  \"\"\"\n",
        "  batch = random.sample(memory, batch_size)\n",
        "  states, actions, next_states, rewards, dones = zip(*batch)  # Revisit\n",
        "\n",
        "  states = torch.tensor(states, dtype=torch.float).cuda()\n",
        "  actions = torch.tensor(actions, dtype=torch.long).cuda()\n",
        "  next_states = torch.tensor(next_states, dtype=torch.float).cuda()\n",
        "  rewards = torch.tensor(rewards, dtype=torch.float).cuda()\n",
        "  dones = torch.tensor(dones, dtype=torch.float).cuda()\n",
        "\n",
        "  return states, actions, next_states, rewards, dones\n",
        "\n",
        "\n",
        "def learn_dqn(batch, optim, q_network, target_network, gamma, global_step, target_update):\n",
        "  \"\"\"Update Q-Network according to DQN Loss function\n",
        "     Update Target Network every target_update global steps\n",
        "\n",
        "    Args:\n",
        "        batch (tuple): tuple of state, action, next_state, reward, and done tensors\n",
        "        optim (Adam): Q-Network optimizer\n",
        "        q_network (QNetwork): Q-Network\n",
        "        target_network (QNetwork): Target Q-Network\n",
        "        gamma (float): discount factor\n",
        "        global_step (int): total steps taken in environment\n",
        "        target_update (int): frequency of target network update\n",
        "  \"\"\"\n",
        "  states, actions, next_states, rewards, dones = batch\n",
        "\n",
        "  q_values = q_network(states)\n",
        "  q_values = q_values.gather(1, actions.unsqueeze(1)).squeeze(1)  # Revisit\n",
        "\n",
        "  next_q_values = target_network(next_states)\n",
        "  next_q_value = next_q_values.max(dim=1)[0]\n",
        "\n",
        "  target_q_values = rewards + gamma * next_q_value * (1 - dones)\n",
        "  loss = F.mse_loss(q_values, target_q_values.detach())\n",
        "\n",
        "  optim.zero_grad()\n",
        "  loss.backward()\n",
        "  optim.step()\n",
        "\n",
        "  if global_step % target_update == 0:\n",
        "    target_network.load_state_dict(q_network.state_dict())  # Revisit\n"
      ]
    },
    {
      "cell_type": "markdown",
      "metadata": {
        "id": "vGQgiY0WvImB"
      },
      "source": [
        "### Modules"
      ]
    },
    {
      "cell_type": "code",
      "execution_count": 6,
      "metadata": {
        "id": "1vMhl-oevIBo"
      },
      "outputs": [],
      "source": [
        "# Q-Value Network\n",
        "class QNetwork(nn.Module):\n",
        "  def __init__(self, state_size, action_size):\n",
        "    super().__init__()\n",
        "    hidden_size = 8\n",
        "\n",
        "    self.net = nn.Sequential(nn.Linear(state_size, hidden_size),\n",
        "                             nn.ReLU(),\n",
        "                             nn.Linear(hidden_size, hidden_size),\n",
        "                             nn.ReLU(),\n",
        "                             nn.Linear(hidden_size, hidden_size),\n",
        "                             nn.ReLU(),\n",
        "                             nn.Linear(hidden_size, action_size))\n",
        "\n",
        "  def forward(self, x):\n",
        "    \"\"\"Estimate q-values given state\n",
        "\n",
        "      Args:\n",
        "          state (tensor): current state, size (batch x state_size)\n",
        "\n",
        "      Returns:\n",
        "          q-values (tensor): estimated q-values, size (batch x action_size)\n",
        "    \"\"\"\n",
        "    return self.net(x)"
      ]
    },
    {
      "cell_type": "markdown",
      "metadata": {
        "id": "yCafVI552dgg"
      },
      "source": [
        "### Main"
      ]
    },
    {
      "cell_type": "code",
      "execution_count": 11,
      "metadata": {
        "id": "8Sy_r9Wr2eg8",
        "outputId": "47af86a0-94aa-49b3-ada8-b5c092821a28",
        "colab": {
          "base_uri": "https://localhost:8080/",
          "height": 475
        }
      },
      "outputs": [
        {
          "output_type": "stream",
          "name": "stderr",
          "text": [
            "Episodes: 41 Reward: 25.0:   8%|▊         | 42/500 [00:00<00:04, 108.44it/s]<ipython-input-10-115b8b940b19>:45: UserWarning: Creating a tensor from a list of numpy.ndarrays is extremely slow. Please consider converting the list to a single numpy.ndarray with numpy.array() before converting to a tensor. (Triggered internally at ../torch/csrc/utils/tensor_new.cpp:278.)\n",
            "  states = torch.tensor(states, dtype=torch.float).cuda()\n"
          ]
        },
        {
          "output_type": "display_data",
          "data": {
            "text/plain": [
              "<IPython.core.display.HTML object>"
            ],
            "text/html": [
              "<video alt=\"test\" autoplay\n",
              "                loop controls style=\"height: 400px;\">\n",
              "                <source src=\"data:video/mp4;base64,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\" type=\"video/mp4\" />\n",
              "             </video>"
            ]
          },
          "metadata": {}
        }
      ],
      "source": [
        "def dqn_main():\n",
        "  # Hyper parameters\n",
        "  lr = 1e-3\n",
        "  epochs = 500\n",
        "  start_training = 1000\n",
        "  gamma = 0.99\n",
        "  batch_size = 32\n",
        "  epsilon = 1\n",
        "  epsilon_decay = .9999\n",
        "  target_update = 1000\n",
        "  learn_frequency = 2\n",
        "\n",
        "  # Init environment\n",
        "  state_size = 4\n",
        "  action_size = 2\n",
        "  env = gym.make('CartPole-v1', render_mode=\"rgb_array\")\n",
        "\n",
        "  # Init networks\n",
        "  q_network = QNetwork(state_size, action_size).cuda()\n",
        "  target_network = QNetwork(state_size, action_size).cuda()\n",
        "  target_network.load_state_dict(q_network.state_dict())\n",
        "\n",
        "  # Init optimizer\n",
        "  optim = torch.optim.Adam(q_network.parameters(), lr=lr)\n",
        "\n",
        "  # Init replay buffer\n",
        "  memory = []\n",
        "\n",
        "  # Begin main loop\n",
        "  results_dqn = []\n",
        "  global_step = 0\n",
        "  loop = tqdm(total=epochs, position=0, leave=False)\n",
        "  for epoch in range(epochs):\n",
        "    last_epoch = (epoch+1 == epochs)\n",
        "    # Record the last epoch, not the previous epochs\n",
        "    if last_epoch:\n",
        "      env = wrap_env(env)\n",
        "\n",
        "    # Reset environment\n",
        "    state, _ = env.reset()\n",
        "    done = False\n",
        "    cum_reward = 0  # Track cumulative reward per episode\n",
        "\n",
        "    # Begin episode\n",
        "    while not done and cum_reward < 200:  # End after 200 steps\n",
        "      # Select e-greedy action\n",
        "      action, epsilon = get_action_dqn(q_network, state, epsilon, epsilon_decay)\n",
        "\n",
        "      # Take step\n",
        "      next_state, reward, terminated, truncated, _ = env.step(action)\n",
        "      done = terminated or truncated\n",
        "      # env.render()\n",
        "\n",
        "      # Store step in replay buffer\n",
        "      memory.append((state, action, next_state, reward, done))\n",
        "\n",
        "      cum_reward += reward\n",
        "      global_step += 1  # Increment total steps\n",
        "      state = next_state  # Set current state\n",
        "\n",
        "      # If time to train\n",
        "      if global_step > start_training and global_step % learn_frequency == 0:\n",
        "\n",
        "        # Sample batch\n",
        "        batch = prepare_batch(memory, batch_size)\n",
        "\n",
        "        # Train\n",
        "        learn_dqn(batch, optim, q_network, target_network, gamma, global_step, target_update)\n",
        "    env.close()\n",
        "    # Print results at end of episode\n",
        "    results_dqn.append(cum_reward)\n",
        "    loop.update(1)\n",
        "    loop.set_description('Episodes: {} Reward: {}'.format(epoch, cum_reward))\n",
        "\n",
        "  return results_dqn\n",
        "\n",
        "results_dqn = dqn_main()\n",
        "show_video()"
      ]
    },
    {
      "cell_type": "code",
      "execution_count": 12,
      "metadata": {
        "id": "ZWYwytCDC3aw",
        "outputId": "8f194a7b-0207-4212-c56d-831f6488312f",
        "colab": {
          "base_uri": "https://localhost:8080/",
          "height": 430
        }
      },
      "outputs": [
        {
          "output_type": "display_data",
          "data": {
            "text/plain": [
              "<Figure size 640x480 with 1 Axes>"
            ],
            "image/png": "[encoded data removed]"
          },
          "metadata": {}
        }
      ],
      "source": [
        "plt.plot(results_dqn)\n",
        "plt.show()"
      ]
    },
    {
      "cell_type": "markdown",
      "metadata": {
        "id": "qN9yy5EWVNz0"
      },
      "source": [
        "## PPO"
      ]
    },
    {
      "cell_type": "markdown",
      "metadata": {
        "id": "XvRUJUew0yN_"
      },
      "source": [
        "## Part 2\n",
        "\n",
        "Proximal Policy Optimization (https://arxiv.org/pdf/1707.06347.pdf) is a type of policy gradient method. Instead of calculating Q-values, we train a network $\\pi$ to optimize the probability of taking good actions directly, using states as inputs and actions as outputs. PPO also uses a value network $V$ that estimates state values in order to estimate the advantage $\\hat{A}$.\n",
        "\n",
        "Tuples of state, action distribution, action taken, and return $(s,\\pi(s), a,\\hat{R})$ are gathered for several rollouts. After training on this experience, these tuples are discarded and new experience is gathered.\n",
        "\n",
        "Loss for the value network and the policy network are calculated according to the following formula:\n",
        "\n",
        "$Loss=ValueLoss+PolicyLoss$\n",
        "\n",
        "$ValueLoss=\\frac{1}{N}\\sum \\bigg(\\hat{R} - V(s) \\bigg)^2 $\n",
        "\n",
        "$PolicyLoss=-\\frac{1}{N}\\sum \\min\\bigg( \\frac{\\pi'(a|s)}{\\pi(a|s)} \\hat{A}, clip(\\frac{\\pi'(a|s)}{\\pi(a|s)},1-\\epsilon,1+\\epsilon) \\hat{A} \\bigg) $\n",
        "\n",
        "$\\hat{R}_t = \\sum_{i=t}^H \\gamma^{i-t}r_i$\n",
        "\n",
        "$\\hat{A}_t=\\hat{R}_t-V(s_t)$\n",
        "\n",
        "Here, $\\pi'(a|s)$ is the probability of taking an action given a state under the current policy and $\\pi(a|s)$ is the probability of taking an action given a state under the policy used to gather data. In the loss function, $a$ is the action your agent actually took and is sampled from memory.\n",
        "\n",
        "Additionally, the $clip$ function clips the value of the first argument according to the lower and upper bounds in the second and third arguments resectively.\n",
        "\n",
        "Another important note: Your the calculation of your advantage $\\hat{A}$ should not permit gradient flow from your policy loss calculation. In other words, make sure to call `.detach()` on your advantage.\n",
        "\n",
        "### TODO\n",
        "\n",
        "- Implement calculate return method\n",
        "- Implement get action method\n",
        "- Implement PPO learning algorithm"
      ]
    },
    {
      "cell_type": "code",
      "execution_count": null,
      "metadata": {
        "id": "zsm1pILHVcEp"
      },
      "outputs": [],
      "source": [
        "def calculate_return(memory, rollout, gamma):\n",
        "  \"\"\"Return memory with calculated return in experience tuple\n",
        "\n",
        "    Args:\n",
        "        memory (list): (state, action, action_dist, return) tuples\n",
        "        rollout (list): (state, action, action_dist, reward) tuples from last rollout\n",
        "        gamma (float): discount factor\n",
        "\n",
        "    Returns:\n",
        "        list: memory updated with (state, action, action_dist, return) tuples from rollout\n",
        "  \"\"\"\n",
        "  pass\n",
        "\n",
        "\n",
        "def get_action_ppo(network, state):\n",
        "  \"\"\"Sample action from the distribution obtained from the policy network\n",
        "\n",
        "    Args:\n",
        "        network (PolicyNetwork): Policy Network\n",
        "        state (np-array): current state, size (state_size)\n",
        "\n",
        "    Returns:\n",
        "        int: action sampled from output distribution of policy network\n",
        "        array: output distribution of policy network\n",
        "  \"\"\"\n",
        "  pass\n",
        "\n",
        "\n",
        "def learn_ppo(optim, policy, value, memory_dataloader, epsilon, policy_epochs):\n",
        "  \"\"\"Implement PPO policy and value network updates. Iterate over your entire\n",
        "     memory the number of times indicated by policy_epochs.\n",
        "\n",
        "    Args:\n",
        "        optim (Adam): value and policy optimizer\n",
        "        policy (PolicyNetwork): Policy Network\n",
        "        value (ValueNetwork): Value Network\n",
        "        memory_dataloader (DataLoader): dataloader with (state, action, action_dist, return) tensors\n",
        "        epsilon (float): trust region\n",
        "        policy_epochs (int): number of times to iterate over all memory\n",
        "  \"\"\"\n",
        "  pass\n",
        "\n"
      ]
    },
    {
      "cell_type": "markdown",
      "metadata": {
        "id": "R6RXma_-vSGX"
      },
      "source": [
        "### Modules"
      ]
    },
    {
      "cell_type": "code",
      "execution_count": null,
      "metadata": {
        "id": "L8URnP8xvTTG"
      },
      "outputs": [],
      "source": [
        "# Dataset that wraps memory for a dataloader\n",
        "class RLDataset(Dataset):\n",
        "  def __init__(self, data):\n",
        "    super().__init__()\n",
        "    self.data = []\n",
        "    for d in data:\n",
        "      self.data.append(d)\n",
        "\n",
        "  def __getitem__(self, index):\n",
        "    return self.data[index]\n",
        "\n",
        "  def __len__(self):\n",
        "    return len(self.data)\n",
        "\n",
        "\n",
        "# Policy Network\n",
        "class PolicyNetwork(nn.Module):\n",
        "  def __init__(self, state_size, action_size):\n",
        "    super().__init__()\n",
        "    hidden_size = 8\n",
        "\n",
        "    self.net = nn.Sequential(nn.Linear(state_size, hidden_size),\n",
        "                             nn.ReLU(),\n",
        "                             nn.Linear(hidden_size, hidden_size),\n",
        "                             nn.ReLU(),\n",
        "                             nn.Linear(hidden_size, hidden_size),\n",
        "                             nn.ReLU(),\n",
        "                             nn.Linear(hidden_size, action_size),\n",
        "                             nn.Softmax(dim=1))\n",
        "\n",
        "  def forward(self, x):\n",
        "    \"\"\"Get policy from state\n",
        "\n",
        "      Args:\n",
        "          state (tensor): current state, size (batch x state_size)\n",
        "\n",
        "      Returns:\n",
        "          action_dist (tensor): probability distribution over actions (batch x action_size)\n",
        "    \"\"\"\n",
        "    return self.net(x)\n",
        "\n",
        "\n",
        "# Value Network\n",
        "class ValueNetwork(nn.Module):\n",
        "  def __init__(self, state_size):\n",
        "    super().__init__()\n",
        "    hidden_size = 8\n",
        "\n",
        "    self.net = nn.Sequential(nn.Linear(state_size, hidden_size),\n",
        "                             nn.ReLU(),\n",
        "                             nn.Linear(hidden_size, hidden_size),\n",
        "                             nn.ReLU(),\n",
        "                             nn.Linear(hidden_size, hidden_size),\n",
        "                             nn.ReLU(),\n",
        "                             nn.Linear(hidden_size, 1))\n",
        "\n",
        "  def forward(self, x):\n",
        "    \"\"\"Estimate value given state\n",
        "\n",
        "      Args:\n",
        "          state (tensor): current state, size (batch x state_size)\n",
        "\n",
        "      Returns:\n",
        "          value (tensor): estimated value, size (batch)\n",
        "    \"\"\"\n",
        "    return self.net(x)"
      ]
    },
    {
      "cell_type": "markdown",
      "metadata": {
        "id": "_aBD_R_e01Qb"
      },
      "source": [
        "### Main"
      ]
    },
    {
      "cell_type": "code",
      "execution_count": null,
      "metadata": {
        "id": "qX_Bv4M4MyY2"
      },
      "outputs": [],
      "source": [
        "def ppo_main():\n",
        "  # Hyper parameters\n",
        "  lr = 1e-3\n",
        "  epochs = 20\n",
        "  env_samples = 100\n",
        "  gamma = 0.9\n",
        "  batch_size = 256\n",
        "  epsilon = 0.2\n",
        "  policy_epochs = 5\n",
        "\n",
        "  # Init environment\n",
        "  state_size = 4\n",
        "  action_size = 2\n",
        "  env = gym.make('CartPole-v1', render_mode=\"rgb_array\")\n",
        "\n",
        "  # Init networks\n",
        "  policy_network = PolicyNetwork(state_size, action_size).cuda()\n",
        "  value_network = ValueNetwork(state_size).cuda()\n",
        "\n",
        "  # Init optimizer\n",
        "  optim = torch.optim.Adam(chain(policy_network.parameters(), value_network.parameters()), lr=lr)\n",
        "\n",
        "  # Start main loop\n",
        "  results_ppo = []\n",
        "  loop = tqdm(total=epochs, position=0, leave=False)\n",
        "  for epoch in range(epochs):\n",
        "    last_epoch = (epoch+1 == epochs)\n",
        "    # Record only last epoch\n",
        "    if last_epoch:\n",
        "      env = wrap_env(env)\n",
        "\n",
        "    memory = []  # Reset memory every epoch\n",
        "    rewards = []  # Calculate average episodic reward per epoch\n",
        "\n",
        "    # Begin experience loop\n",
        "    for episode in range(env_samples):\n",
        "\n",
        "      # Reset environment\n",
        "      state, _ = env.reset()\n",
        "      done = False\n",
        "      rollout = []\n",
        "      cum_reward = 0  # Track cumulative reward\n",
        "\n",
        "      # Begin episode\n",
        "      while not done and cum_reward < 200:  # End after 200 steps\n",
        "        # Get action\n",
        "        action, action_dist = get_action_ppo(policy_network, state)\n",
        "\n",
        "        # Take step\n",
        "        next_state, reward, terminated, truncated, _ = env.step(action)\n",
        "        done = terminated or truncated\n",
        "        # env.render()\n",
        "\n",
        "        # Store step\n",
        "        rollout.append((state, action, action_dist, reward))\n",
        "\n",
        "        cum_reward += reward\n",
        "        state = next_state  # Set current state\n",
        "\n",
        "      # Calculate returns and add episode to memory\n",
        "      memory = calculate_return(memory, rollout, gamma)\n",
        "\n",
        "      rewards.append(cum_reward)\n",
        "      env.close()\n",
        "    # Train\n",
        "    dataset = RLDataset(memory)\n",
        "    loader = DataLoader(dataset, batch_size=batch_size, shuffle=True)\n",
        "    learn_ppo(optim, policy_network, value_network, loader, epsilon, policy_epochs)\n",
        "\n",
        "    # Print results\n",
        "    results_ppo.extend(rewards)  # Store rewards for this epoch\n",
        "    loop.update(1)\n",
        "    loop.set_description(\"Epochs: {} Reward: {}\".format(epoch, results_ppo[-1]))\n",
        "\n",
        "  return results_ppo\n",
        "\n",
        "results_ppo = ppo_main()\n",
        "show_video()"
      ]
    },
    {
      "cell_type": "code",
      "execution_count": null,
      "metadata": {
        "id": "pLXetCMpC1DE"
      },
      "outputs": [],
      "source": [
        "plt.plot(results_ppo)\n",
        "plt.show()"
      ]
    }
  ],
  "metadata": {
    "colab": {
      "provenance": [],
      "gpuType": "T4"
    },
    "kernelspec": {
      "display_name": "Python 3",
      "name": "python3"
    },
    "language_info": {
      "codemirror_mode": {
        "name": "ipython",
        "version": 3
      },
      "file_extension": ".py",
      "mimetype": "text/x-python",
      "name": "python",
      "nbconvert_exporter": "python",
      "pygments_lexer": "ipython3",
      "version": "3.12.1"
    },
    "accelerator": "GPU"
  },
  "nbformat": 4,
  "nbformat_minor": 0
}