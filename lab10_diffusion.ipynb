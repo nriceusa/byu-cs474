{
  "cells": [
    {
      "cell_type": "markdown",
      "metadata": {
        "id": "AipLzlUUIHvs"
      },
      "source": [
        "[![Open In Colab](https://colab.research.google.com/assets/colab-badge.svg)](https://github.com/porterjenkins/byu-cs474/blob/master/lab10_diffusion.ipynb)"
      ]
    },
    {
      "cell_type": "markdown",
      "metadata": {
        "id": "Cl_noqShIjNr"
      },
      "source": [
        "# Denoising Diffusion Probabilistic Models (DDPM)\n",
        "\n",
        "## Description\n",
        "\n",
        "In this lab, we train an image generation model using diffusion. Diffusion is just one of several techniques to generate images, but it has recently surpassed the GAN as the state-of-the-art generation model.\n",
        "\n",
        "The diffusion model is trained to remove noise from images, and once it is fully trained it can take random noise and fully \"denoise\" it into an image that looks reasonably like the training set.\n",
        "\n",
        "## Objectives\n",
        "- Implement forward process of diffusion\n",
        "- Implement backward process of diffusion\n",
        "- Generate images with the diffusion process\n",
        "- Answer questions about diffusion\n",
        "\n",
        "## Grading Criteria\n",
        "- Scheduling (10%)\n",
        "- Forward Diffusion (30%)\n",
        "- Backward Diffusion (30%)\n",
        "- Image Generation (20%)\n",
        "- Answers to Questions (10%)\n",
        "\n",
        "### Helpful Reading\n",
        "- Denoising Diffusion Probabilistic Models: https://arxiv.org/abs/2006.11239\n",
        "- Improved Denoising Diffusion Probabilistic Models: https://arxiv.org/abs/2102.09672\n",
        "\n"
      ]
    },
    {
      "cell_type": "code",
      "execution_count": 1,
      "metadata": {
        "id": "YtG6fhcBIjNx"
      },
      "outputs": [],
      "source": [
        "from abc import abstractmethod\n",
        "import math\n",
        "import matplotlib.pyplot as plt\n",
        "import numpy as np\n",
        "\n",
        "import torch\n",
        "import torch.nn as nn\n",
        "import torch.nn.functional as F\n",
        "from torch.optim import AdamW\n",
        "from torch.utils.data import DataLoader\n",
        "import torchvision\n",
        "from torchvision.transforms import Compose, Resize, Lambda, ToTensor\n",
        "\n",
        "device = torch.device(\"cuda:0\") if torch.cuda.is_available() else torch.device(\"cpu\")"
      ]
    },
    {
      "cell_type": "code",
      "execution_count": 2,
      "metadata": {
        "id": "jNr2K6q7IjNz"
      },
      "outputs": [],
      "source": [
        "# Hyperparameters\n",
        "MAX_TIMESTEPS = 1000\n",
        "image_size = 32\n",
        "lr = .0001"
      ]
    },
    {
      "cell_type": "markdown",
      "metadata": {
        "id": "-Ub52Ts06Lh7"
      },
      "source": [
        "We have given you a simpler version of the UNet used in \"Improved Denoising Diffusion Probabilistic Models.\" Feel free to familiarize yourself with the model. It is similar to the UNet we made in the cancer detection lab, but has layers that incorporate the timestep embedding. The model is already fully implemented."
      ]
    },
    {
      "cell_type": "code",
      "execution_count": 3,
      "metadata": {
        "id": "nSeXhWSUIjN1"
      },
      "outputs": [],
      "source": [
        "def zero_module(module):\n",
        "    for p in module.parameters():\n",
        "        p.detach().zero_()\n",
        "    return module\n",
        "\n",
        "\n",
        "def timestep_embedding(timesteps, dim, max_period=10000):\n",
        "    half = dim // 2\n",
        "    freqs = torch.exp(\n",
        "        -math.log(max_period) * torch.arange(start=0, end=half, dtype=torch.float32) / half\n",
        "    ).to(device=timesteps.device)\n",
        "    args = timesteps[:, None].float() * freqs[None]\n",
        "    embedding = torch.cat([torch.cos(args), torch.sin(args)], dim=-1)\n",
        "    if dim % 2:\n",
        "        embedding = torch.cat([embedding, torch.zeros_like(embedding[:, :1])], dim=-1)\n",
        "    return embedding\n",
        "\n",
        "\n",
        "# Note: this is an abstract method, do not implement `forward`\n",
        "class TimestepBlock(nn.Module):\n",
        "    @abstractmethod\n",
        "    def forward(self, x, emb):\n",
        "        \"\"\"\n",
        "        Apply the module to `x` given `emb` timestep embeddings.\n",
        "        \"\"\"\n",
        "\n",
        "\n",
        "class TimestepEmbedSequential(nn.Sequential, TimestepBlock):\n",
        "    def forward(self, x, emb):\n",
        "        for layer in self:\n",
        "            if isinstance(layer, TimestepBlock):\n",
        "                x = layer(x, emb)\n",
        "            else:\n",
        "                x = layer(x)\n",
        "        return x\n",
        "\n",
        "\n",
        "class Upsample(nn.Module):\n",
        "    def __init__(self, channels):\n",
        "        super().__init__()\n",
        "        self.channels = channels\n",
        "        self.conv = nn.Conv2d(channels, channels, 3, padding=1)\n",
        "\n",
        "    def forward(self, x):\n",
        "        assert x.shape[1] == self.channels\n",
        "        x = F.interpolate(x, scale_factor=2, mode=\"nearest\")\n",
        "        x = self.conv(x)\n",
        "        return x\n",
        "\n",
        "\n",
        "class Downsample(nn.Module):\n",
        "    def __init__(self, channels):\n",
        "        super().__init__()\n",
        "        self.channels = channels\n",
        "        self.op = nn.Conv2d(channels, channels, 3, stride=2, padding=1)\n",
        "\n",
        "    def forward(self, x):\n",
        "        assert x.shape[1] == self.channels\n",
        "        return self.op(x)\n",
        "\n",
        "\n",
        "class ResBlock(TimestepBlock):\n",
        "    def __init__(\n",
        "        self,\n",
        "        channels,\n",
        "        emb_channels,\n",
        "        dropout,\n",
        "        out_channels=None,\n",
        "    ):\n",
        "        super().__init__()\n",
        "        self.channels = channels\n",
        "        self.emb_channels = emb_channels\n",
        "        self.dropout = dropout\n",
        "        self.out_channels = out_channels or channels\n",
        "\n",
        "        self.in_layers = nn.Sequential(\n",
        "            nn.GroupNorm(32, channels),\n",
        "            nn.SiLU(),\n",
        "            nn.Conv2d(channels, self.out_channels, 3, padding=1)\n",
        "        )\n",
        "        self.emb_layers = nn.Sequential(\n",
        "            nn.SiLU(),\n",
        "            nn.Linear(emb_channels, self.out_channels)\n",
        "        )\n",
        "        self.out_layers = nn.Sequential(\n",
        "            nn.GroupNorm(32, self.out_channels),\n",
        "            nn.SiLU(),\n",
        "            nn.Dropout(p=dropout),\n",
        "            zero_module(nn.Conv2d(self.out_channels, self.out_channels, 3, padding=1)),\n",
        "        )\n",
        "\n",
        "        if self.out_channels == channels:\n",
        "            self.skip_connection = nn.Identity()\n",
        "        else:\n",
        "            self.skip_connection = nn.Conv2d(channels, self.out_channels, kernel_size=1)\n",
        "\n",
        "    def forward(self, x, emb):\n",
        "        h = self.in_layers(x)\n",
        "        emb_out = self.emb_layers(emb).type(h.dtype)\n",
        "        while len(emb_out.shape) < len(h.shape):\n",
        "            emb_out = emb_out[..., None]\n",
        "        h = h + emb_out\n",
        "        h = self.out_layers(h)\n",
        "        return self.skip_connection(x) + h\n",
        "\n",
        "\n",
        "class UNetModel(nn.Module):\n",
        "    \"\"\"\n",
        "    The full UNet model with timestep embedding.\n",
        "\n",
        "    :param in_channels: channels in the input Tensor.\n",
        "    :param model_channels: base channel count for the model.\n",
        "    :param out_channels: channels in the output Tensor.\n",
        "    :param num_res_blocks: number of residual blocks per downsample.\n",
        "    :param dropout: the dropout probability.\n",
        "    :param channel_mult: channel multiplier for each level of the UNet.\n",
        "    \"\"\"\n",
        "\n",
        "    def __init__(\n",
        "        self,\n",
        "        in_channels,\n",
        "        hidden_channels,\n",
        "        out_channels,\n",
        "        num_res_blocks,\n",
        "        dropout=0,\n",
        "        channel_mult=(1, 2, 4, 8),\n",
        "    ):\n",
        "        super().__init__()\n",
        "        self.in_channels = in_channels\n",
        "        self.model_channels = hidden_channels\n",
        "        self.out_channels = out_channels\n",
        "        self.num_res_blocks = num_res_blocks\n",
        "        self.dropout = dropout\n",
        "        self.channel_mult = channel_mult\n",
        "\n",
        "        time_embed_dim = hidden_channels * 4\n",
        "        self.time_embed = nn.Sequential(\n",
        "            nn.Linear(hidden_channels, time_embed_dim),\n",
        "            nn.SiLU(),\n",
        "            nn.Linear(time_embed_dim, time_embed_dim),\n",
        "        )\n",
        "\n",
        "        self.input_blocks = nn.ModuleList([\n",
        "            TimestepEmbedSequential(nn.Conv2d(in_channels, hidden_channels, 3, padding=1))\n",
        "        ])\n",
        "        input_block_chans = [hidden_channels]\n",
        "        ch = hidden_channels\n",
        "        ds = 1\n",
        "        for level, mult in enumerate(channel_mult):\n",
        "            for _ in range(num_res_blocks):\n",
        "                layers = [ResBlock(ch, time_embed_dim, dropout, out_channels=mult * hidden_channels)]\n",
        "                ch = mult * hidden_channels\n",
        "                self.input_blocks.append(TimestepEmbedSequential(*layers))\n",
        "                input_block_chans.append(ch)\n",
        "            if level != len(channel_mult) - 1:\n",
        "                self.input_blocks.append(TimestepEmbedSequential(Downsample(ch)))\n",
        "                input_block_chans.append(ch)\n",
        "                ds *= 2\n",
        "\n",
        "        self.middle_block = TimestepEmbedSequential(\n",
        "            ResBlock(ch, time_embed_dim, dropout),\n",
        "            ResBlock(ch, time_embed_dim, dropout),\n",
        "        )\n",
        "\n",
        "        self.output_blocks = nn.ModuleList([])\n",
        "        for level, mult in list(enumerate(channel_mult))[::-1]:\n",
        "            for i in range(num_res_blocks + 1):\n",
        "                layers = [\n",
        "                    ResBlock(\n",
        "                        ch + input_block_chans.pop(),\n",
        "                        time_embed_dim,\n",
        "                        dropout,\n",
        "                        out_channels=hidden_channels * mult,\n",
        "                    )\n",
        "                ]\n",
        "                ch = hidden_channels * mult\n",
        "                if level and i == num_res_blocks:\n",
        "                    layers.append(Upsample(ch))\n",
        "                    ds //= 2\n",
        "                self.output_blocks.append(TimestepEmbedSequential(*layers))\n",
        "\n",
        "        self.out = nn.Sequential(\n",
        "            nn.GroupNorm(32, ch),\n",
        "            nn.SiLU(),\n",
        "            zero_module(nn.Conv2d(hidden_channels, out_channels, 3, padding=1))\n",
        "        )\n",
        "\n",
        "    def forward(self, x, timesteps):\n",
        "        \"\"\"\n",
        "        Apply the model to an input batch.\n",
        "\n",
        "        :param x: an [N x C x H x W] Tensor of inputs.\n",
        "        :param timesteps: a 1-D batch of timesteps.\n",
        "        :return: an [N x C x H x W] Tensor of outputs.\n",
        "        \"\"\"\n",
        "\n",
        "        xs = []\n",
        "        emb = self.time_embed(timestep_embedding(timesteps, self.model_channels))\n",
        "\n",
        "        for module in self.input_blocks:\n",
        "            x = module(x, emb)\n",
        "            xs.append(x)\n",
        "        x = self.middle_block(x, emb)\n",
        "        for module in self.output_blocks:\n",
        "            cat_in = torch.cat([x, xs.pop()], dim=1)\n",
        "            x = module(cat_in, emb)\n",
        "        return self.out(x)\n"
      ]
    },
    {
      "cell_type": "markdown",
      "metadata": {
        "id": "LZrIrF1qIjN2"
      },
      "source": [
        "# Part 1: Implement a linear and cosine scheduler\n",
        "\n",
        "A scheduler is an important aspect to training a diffusion model. The scheduler returns a sequence of $\\beta$ values, i.e. $[\\beta_1, \\cdots, \\beta_T]$, that help determine how much noise is added to an image for training (forward process) and is removed from an image for inference (backward process). While the linear and cosine beta schedulers are valid ways of computing $\\beta$s, the cosine scheduler is a better choice. Both schedulers should return 1-D tensors containing $[\\beta_1, \\cdots, \\beta_T]$.\n",
        "\n",
        "While we will only use t=1...T in training, we will need $\\bar{\\alpha}_0=1$ in the sampling function. To ensure $\\bar{\\alpha}_0 = 1$, you should prepend your list of $\\beta$ with $\\beta_0 = 0$. This will also ensure your indices match up with PyTorch's 0-indexed tensors.\n",
        "\n",
        "**Tip:** Implement and use the linear beta scheduler first while you debug your diffusion model. Once you know your model works, then you can switch to the cosine scheduler for better results."
      ]
    },
    {
      "cell_type": "code",
      "execution_count": 4,
      "metadata": {
        "id": "fBuVxgKHIjN3"
      },
      "outputs": [],
      "source": [
        "def linear_beta_schedule(timesteps):\n",
        "    \"\"\"\n",
        "    Compute [β1,...,βT] linearly. Discussed in \"Denoising Diffusion Probabilistic Models\"\n",
        "    Example values for β1, βT shown in 1st bullet point of Appendix B.\n",
        "    \"\"\"\n",
        "    betas = torch.cat((\n",
        "        torch.tensor([0]), torch.linspace(10 ** -4, 0.02, timesteps)\n",
        "    ))\n",
        "    return betas\n",
        "\n",
        "def cosine_beta_schedule(timesteps):\n",
        "    \"\"\"\n",
        "    Compute [β1,...,βT] using eq. 17 of \"Improved Denoising Diffusion Probabilistic Models\"\n",
        "    \"\"\"\n",
        "    s = 0.008\n",
        "\n",
        "    f_t = torch.tensor([\n",
        "        math.cos(((t / timesteps + s) / (1 + s)) * (math.pi / 2))**2\n",
        "        for t in range(timesteps)\n",
        "    ])\n",
        "\n",
        "    f_0 = math.cos((s / (1 + s)) * (math.pi / 2))**2\n",
        "\n",
        "    a_bar = f_t / f_0\n",
        "\n",
        "    return torch.cat((torch.tensor([0]), 1 - a_bar)).clamp(0, 0.999)\n",
        "\n",
        "    # betas = (1 - (a_bar.roll(1, 0) / (a_bar))).clamp(0, 0.999)\n",
        "\n",
        "    # return torch.cat((torch.tensor([0]), betas))\n"
      ]
    },
    {
      "cell_type": "markdown",
      "metadata": {
        "id": "eZ0c1Ih26Lh8"
      },
      "source": [
        "It would be helpful to compute global variables for $\\beta$, $\\alpha$, and $\\bar{\\alpha}$ down below so you don't need to recompute them for the forward and backward process. $\\alpha$ and $\\bar{\\alpha}$ are defined right above equation 4 in \"Denoising Diffusion Probability Models.\"\n",
        "\n",
        "Note that the cosine schedule uses $\\bar{\\alpha}$ to compute $\\beta$. But since we clip $\\beta$ after deriving it, you should recompute $\\bar{\\alpha}$ from $\\alpha$ and the clipped $\\beta$."
      ]
    },
    {
      "cell_type": "code",
      "execution_count": 5,
      "metadata": {
        "id": "UPxewOfjIjN3"
      },
      "outputs": [],
      "source": [
        "def compute_alpha(beta):\n",
        "    return 1 - beta\n",
        "\n",
        "def compute_alpha_bar(alpha):\n",
        "    return torch.cumprod(alpha, 0)"
      ]
    },
    {
      "cell_type": "markdown",
      "metadata": {
        "id": "bLUgI5yW8eKs"
      },
      "source": [
        "Compute values for both schedulers."
      ]
    },
    {
      "cell_type": "code",
      "execution_count": 6,
      "metadata": {
        "id": "YKfq6rnF8Yd_"
      },
      "outputs": [],
      "source": [
        "linear_betas = linear_beta_schedule(MAX_TIMESTEPS)\n",
        "linear_alpha = compute_alpha(linear_betas)\n",
        "linear_alpha_bar = compute_alpha_bar(linear_alpha)\n",
        "\n",
        "cosine_betas = cosine_beta_schedule(MAX_TIMESTEPS)\n",
        "cosine_alpha = compute_alpha(cosine_betas)\n",
        "cosine_alpha_bar = compute_alpha_bar(cosine_alpha)\n",
        "\n",
        "# print(f\"Linear alphas: {linear_alpha_bar}\")\n",
        "# print(f\"Cosine alphas: {cosine_alpha_bar}\\n\")\n",
        "\n",
        "# print(f\"Linear betas: {linear_betas}\")\n",
        "# print(f\"Cosine betas: {cosine_betas}\")\n",
        "\n",
        "# plt.plot(linear_betas)\n",
        "# plt.plot(cosine_betas)\n",
        "# plt.legend([\"Linear\", \"Cosine\"])\n",
        "# plt.xlabel(\"t\")\n",
        "# plt.ylabel(\"alpha\")\n",
        "# plt.show()"
      ]
    },
    {
      "cell_type": "markdown",
      "metadata": {
        "id": "0vpZudLj8o1S"
      },
      "source": [
        "Figure 5 of \"Improved Denoising Diffusion Probabilistic Models\" graphs the $\\bar{\\alpha}$ schedule. Graph both your $\\bar{\\alpha}$ schedulers to verify your schedulers are correct."
      ]
    },
    {
      "cell_type": "code",
      "execution_count": 7,
      "metadata": {
        "id": "PKzkZwnJ8qSb",
        "colab": {
          "base_uri": "https://localhost:8080/",
          "height": 449
        },
        "outputId": "1ed0a358-b35c-4ee0-9f3e-6ac9b10ef7d9"
      },
      "outputs": [
        {
          "output_type": "display_data",
          "data": {
            "text/plain": [
              "<Figure size 640x480 with 1 Axes>"
            ],
            "image/png": "[encoded data removed]"
          },
          "metadata": {}
        }
      ],
      "source": [
        "plt.plot(linear_alpha_bar)\n",
        "plt.plot(cosine_alpha_bar)\n",
        "plt.legend([\"Linear\", \"Cosine\"])\n",
        "plt.xlabel(\"t\")\n",
        "plt.ylabel(\"alpha\")\n",
        "plt.show()"
      ]
    },
    {
      "cell_type": "markdown",
      "metadata": {
        "id": "f2QWkt0R8xqS"
      },
      "source": [
        "Select which scheduler to use. To prevent broadcasting images, reshape all three lists to (T, 1, 1, 1). Put the tensors on the device, and if you used NumPy to create the tensors, convert from double to floats."
      ]
    },
    {
      "cell_type": "code",
      "execution_count": 8,
      "metadata": {
        "id": "dIkexnDz8yEW"
      },
      "outputs": [],
      "source": [
        "betas = linear_betas\n",
        "alpha = linear_alpha\n",
        "alpha_bar = linear_alpha_bar\n",
        "\n",
        "# betas = cosine_betas\n",
        "# alpha = cosine_alpha\n",
        "# alpha_bar = cosine_alpha_bar\n",
        "\n",
        "betas = betas[1:].reshape(MAX_TIMESTEPS, 1, 1, 1).to(device)\n",
        "alpha = alpha[1:].reshape(MAX_TIMESTEPS, 1, 1, 1).to(device)\n",
        "alpha_bar = alpha_bar[1:].reshape(MAX_TIMESTEPS, 1, 1, 1).to(device)"
      ]
    },
    {
      "cell_type": "markdown",
      "metadata": {
        "id": "2omNHgo8IjN4"
      },
      "source": [
        "# Part 2: Implement the forward diffusion (training) process"
      ]
    },
    {
      "cell_type": "markdown",
      "metadata": {
        "id": "rlJ-GCW0Jfj-"
      },
      "source": [
        "![diffusion_training.png](data:image/png;base64,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)"
      ]
    },
    {
      "cell_type": "markdown",
      "metadata": {
        "id": "MHIY5qyz6Lh-"
      },
      "source": [
        "While you might be accustomed to pseudocode, deep learning pseudocode can sometimes be difficult to parse in the beginning and so we will explain all the steps here. The first thing to note is that **there is an implicit batch dimension included in the pseudocode**, so do not interpret this training loop as operating on a single image.\n",
        "\n",
        "Line 2: Sample a batch of images $x_0$ from you dataset of images $q$. The subscript $0$ denotes the current timestep $t$, i.e. $x_{t=0} \\equiv x_0$.\n",
        "\n",
        "Line 3: Sample from the uniform distribution a batch of timesteps between 1 and $T$. The timesteps in the batch do not need to match.\n",
        "\n",
        "Line 4: Sample noise from the normal distribution. In line 5 we see that the noise is going to be subtracted and multiplied element-wise to our batch of images. This means that the shape of the noise needs to match the shape of the batch of images, i.e. noise.shape = images.shape = (B, C, H, W).\n",
        "\n",
        "Line 5: There is an implicit $x_t$ being created here where $x_t = \\sqrt{\\bar{\\alpha}_t} x_0 + \\sqrt{1 - \\bar{\\alpha}_t} \\epsilon$. Therefore, $x_t$ and $t$ are passed into our diffusion model $\\epsilon_{\\theta}$. The model's goal is to predict the noise $\\epsilon$ that was added into the model. $\\lVert \\epsilon - \\epsilon_{\\theta}(x_t, t) \\rVert^2$ is our loss and it means to take the mean squared error between $\\epsilon$ and our model's prediction of $\\epsilon$. The final two parts of line 5 are $\\nabla_{\\theta}$ and \"take the gradient descent step\" which translates into pytorch as call `loss.backward()` and `optimizer.step()` respectively.\n",
        "\n",
        "Lines 1 and 6 mean to continually train your model until there is no improvement."
      ]
    },
    {
      "cell_type": "code",
      "execution_count": 17,
      "metadata": {
        "id": "dWNOK2jXIjN4"
      },
      "outputs": [],
      "source": [
        "def training(model, optimizer, dataloader, n_minibatches=1500):\n",
        "    model.train()  # Let's the model know it is in training mode\n",
        "\n",
        "    # Implement Algorithm 1 below. You can find what each symbol means in \"Denoising Diffusion Probabilistic Models\"\n",
        "    # 1000-2000 minibatches (i.e. optimization steps) is sufficient for learning how to generate images, but more will help make better images\n",
        "    losses = []\n",
        "\n",
        "\n",
        "    for i, _ in enumerate(dataloader):\n",
        "        if i > n_minibatches:\n",
        "            break\n",
        "\n",
        "        # Line 2\n",
        "        images, _ = next(iter(dataloader))\n",
        "        images = images.to(device)\n",
        "\n",
        "        # Line 3\n",
        "        t = torch.tensor(np.random.randint(1, MAX_TIMESTEPS, images.shape[0]))\n",
        "        t = t.to(device)\n",
        "\n",
        "        # Line 4\n",
        "        noise = torch.randn_like(images)\n",
        "\n",
        "        # Line 5\n",
        "        x = torch.sqrt(alpha_bar[t]) * images + torch.sqrt(1 - alpha_bar[t]) * noise\n",
        "        x = x.to(device)\n",
        "\n",
        "        # Line 6\n",
        "        mse_loss = torch.nn.MSELoss()\n",
        "        loss = mse_loss(model(x, t), x)\n",
        "        loss.backward()\n",
        "        optimizer.step()\n",
        "        optimizer.zero_grad()\n",
        "\n",
        "        losses.append(loss.item())\n",
        "\n",
        "        if i % 100 == 0:\n",
        "            print(f\"Training loop {i} completed.\")\n",
        "\n",
        "    # return training losses\n",
        "    return losses"
      ]
    },
    {
      "cell_type": "markdown",
      "metadata": {
        "id": "ZdLhl2ldIjN5"
      },
      "source": [
        "# Part 3: Implement the backward diffusion (sampling) process"
      ]
    },
    {
      "cell_type": "markdown",
      "metadata": {
        "id": "VVYZV5hEI9zx"
      },
      "source": [
        "![diffusion_sampling.png](data:image/png;base64,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)"
      ]
    },
    {
      "cell_type": "markdown",
      "metadata": {
        "id": "lx_fEn1wJVUc"
      },
      "source": [
        "where $\\bar{\\alpha}_0 = 1$ and $\\sigma_t = \\sqrt{\\beta_t}$.\n",
        "\n",
        "**Note:** the only time $\\alpha_t$ (without bar) is used instead of $\\bar{\\alpha}_t$ (with bar) is under the square root in the second term on line 6 (the numerator multiplied by $x_t$). If you mix up $\\alpha$ and $\\bar{\\alpha}$, your sampling will not work!"
      ]
    },
    {
      "cell_type": "code",
      "execution_count": 10,
      "metadata": {
        "id": "Ggjhh3LiIjN5"
      },
      "outputs": [],
      "source": [
        "@torch.no_grad()\n",
        "def sampling(model, batch_size):\n",
        "    model.eval()  # Let's the model know it is in validation mode\n",
        "\n",
        "    # Implement Algorithm 2 below. You can find what each symbol means in \"Denoising Diffusion Probabilistic Models\"\n",
        "    # Line 1\n",
        "    x = torch.randn((batch_size, 1, image_size, image_size)).to(device)\n",
        "\n",
        "    # Line 2\n",
        "    for t in reversed(range(0, MAX_TIMESTEPS)):\n",
        "        # Line 3\n",
        "        if t > 1:\n",
        "            z = torch.randn((batch_size, 1, image_size, image_size)).to(device)\n",
        "        else:\n",
        "            z = torch.zeros((batch_size, 1, image_size, image_size)).to(device)\n",
        "\n",
        "        # Line 4 - 5\n",
        "        t_tensor = torch.tensor([t] * batch_size, device=device)\n",
        "        x_hat = (1 / torch.sqrt(1 - alpha_bar[t])) * (x - torch.sqrt(1 - alpha_bar[t]) * model(x, t_tensor)).clamp(-1, 1)\n",
        "\n",
        "        # Line 6\n",
        "        x = (\n",
        "            (betas[t] * torch.sqrt(alpha_bar[t - 1]) / (1 - alpha_bar[t])) * x_hat +\n",
        "            torch.sqrt(alpha[t]) * (1 - alpha_bar[t - 1]) / (1 - alpha_bar[t]) * x +\n",
        "            torch.sqrt(betas[t]) * z\n",
        "        )\n",
        "\n",
        "        if t % 100 == 0:\n",
        "            print(f\"Sampling step {t} completed\")\n",
        "\n",
        "    # return generated image\n",
        "    return x"
      ]
    },
    {
      "cell_type": "markdown",
      "metadata": {
        "id": "MOThW-hAIjN5"
      },
      "source": [
        "# Part 4: Train and generate images"
      ]
    },
    {
      "cell_type": "code",
      "execution_count": 11,
      "metadata": {
        "id": "p13jOB2l6Lh_"
      },
      "outputs": [],
      "source": [
        "preprocess_transform = Compose([\n",
        "    Resize(image_size),\n",
        "    ToTensor(),\n",
        "    Lambda(lambda t: (t * 2) - 1),\n",
        "])"
      ]
    },
    {
      "cell_type": "code",
      "execution_count": 12,
      "metadata": {
        "id": "WbPHR9HoIjN5",
        "colab": {
          "base_uri": "https://localhost:8080/"
        },
        "outputId": "33988587-6b88-4361-a5d5-3bbcd71bf40a"
      },
      "outputs": [
        {
          "output_type": "stream",
          "name": "stdout",
          "text": [
            "Downloading http://yann.lecun.com/exdb/mnist/train-images-idx3-ubyte.gz\n",
            "Failed to download (trying next):\n",
            "HTTP Error 403: Forbidden\n",
            "\n",
            "Downloading https://ossci-datasets.s3.amazonaws.com/mnist/train-images-idx3-ubyte.gz\n",
            "Downloading https://ossci-datasets.s3.amazonaws.com/mnist/train-images-idx3-ubyte.gz to data/MNIST/raw/train-images-idx3-ubyte.gz\n"
          ]
        },
        {
          "output_type": "stream",
          "name": "stderr",
          "text": [
            "100%|██████████| 9.91M/9.91M [00:01<00:00, 5.03MB/s]\n"
          ]
        },
        {
          "output_type": "stream",
          "name": "stdout",
          "text": [
            "Extracting data/MNIST/raw/train-images-idx3-ubyte.gz to data/MNIST/raw\n",
            "\n",
            "Downloading http://yann.lecun.com/exdb/mnist/train-labels-idx1-ubyte.gz\n",
            "Failed to download (trying next):\n",
            "HTTP Error 403: Forbidden\n",
            "\n",
            "Downloading https://ossci-datasets.s3.amazonaws.com/mnist/train-labels-idx1-ubyte.gz\n",
            "Downloading https://ossci-datasets.s3.amazonaws.com/mnist/train-labels-idx1-ubyte.gz to data/MNIST/raw/train-labels-idx1-ubyte.gz\n"
          ]
        },
        {
          "output_type": "stream",
          "name": "stderr",
          "text": [
            "100%|██████████| 28.9k/28.9k [00:00<00:00, 133kB/s]\n"
          ]
        },
        {
          "output_type": "stream",
          "name": "stdout",
          "text": [
            "Extracting data/MNIST/raw/train-labels-idx1-ubyte.gz to data/MNIST/raw\n",
            "\n",
            "Downloading http://yann.lecun.com/exdb/mnist/t10k-images-idx3-ubyte.gz\n",
            "Failed to download (trying next):\n",
            "HTTP Error 403: Forbidden\n",
            "\n",
            "Downloading https://ossci-datasets.s3.amazonaws.com/mnist/t10k-images-idx3-ubyte.gz\n",
            "Downloading https://ossci-datasets.s3.amazonaws.com/mnist/t10k-images-idx3-ubyte.gz to data/MNIST/raw/t10k-images-idx3-ubyte.gz\n"
          ]
        },
        {
          "output_type": "stream",
          "name": "stderr",
          "text": [
            "100%|██████████| 1.65M/1.65M [00:01<00:00, 1.27MB/s]\n"
          ]
        },
        {
          "output_type": "stream",
          "name": "stdout",
          "text": [
            "Extracting data/MNIST/raw/t10k-images-idx3-ubyte.gz to data/MNIST/raw\n",
            "\n",
            "Downloading http://yann.lecun.com/exdb/mnist/t10k-labels-idx1-ubyte.gz\n",
            "Failed to download (trying next):\n",
            "HTTP Error 403: Forbidden\n",
            "\n",
            "Downloading https://ossci-datasets.s3.amazonaws.com/mnist/t10k-labels-idx1-ubyte.gz\n",
            "Downloading https://ossci-datasets.s3.amazonaws.com/mnist/t10k-labels-idx1-ubyte.gz to data/MNIST/raw/t10k-labels-idx1-ubyte.gz\n"
          ]
        },
        {
          "output_type": "stream",
          "name": "stderr",
          "text": [
            "100%|██████████| 4.54k/4.54k [00:00<00:00, 3.17MB/s]"
          ]
        },
        {
          "output_type": "stream",
          "name": "stdout",
          "text": [
            "Extracting data/MNIST/raw/t10k-labels-idx1-ubyte.gz to data/MNIST/raw\n",
            "\n"
          ]
        },
        {
          "output_type": "stream",
          "name": "stderr",
          "text": [
            "\n"
          ]
        }
      ],
      "source": [
        "model = UNetModel(\n",
        "        in_channels=1,\n",
        "        hidden_channels=32,\n",
        "        out_channels=1,\n",
        "        num_res_blocks=2,\n",
        "        dropout=0.,\n",
        "        channel_mult=(1, 2, 2, 2),\n",
        "    ).to(device)\n",
        "\n",
        "batch_size = 24\n",
        "dataset = torchvision.datasets.MNIST(\"data/\", train=True, download=True, transform=preprocess_transform)\n",
        "dataloader = DataLoader(dataset, batch_size=batch_size, shuffle=True)\n",
        "\n",
        "optimizer = AdamW(model.parameters(), lr=lr)"
      ]
    },
    {
      "cell_type": "code",
      "execution_count": 18,
      "metadata": {
        "id": "lMA6Is7FIjN6",
        "colab": {
          "base_uri": "https://localhost:8080/"
        },
        "outputId": "7e3f8e94-6576-481a-c736-ea9514e64aea"
      },
      "outputs": [
        {
          "output_type": "stream",
          "name": "stdout",
          "text": [
            "Training loop 0 completed.\n",
            "Training loop 100 completed.\n",
            "Training loop 200 completed.\n",
            "Training loop 300 completed.\n",
            "Training loop 400 completed.\n",
            "Training loop 500 completed.\n",
            "Training loop 600 completed.\n",
            "Training loop 700 completed.\n",
            "Training loop 800 completed.\n",
            "Training loop 900 completed.\n",
            "Training loop 1000 completed.\n",
            "Training loop 1100 completed.\n",
            "Training loop 1200 completed.\n",
            "Training loop 1300 completed.\n",
            "Training loop 1400 completed.\n",
            "Training loop 1500 completed.\n"
          ]
        }
      ],
      "source": [
        "train_losses = training(model, optimizer, dataloader)"
      ]
    },
    {
      "cell_type": "code",
      "execution_count": 19,
      "metadata": {
        "id": "AC_7OtU76LiA",
        "colab": {
          "base_uri": "https://localhost:8080/",
          "height": 445
        },
        "outputId": "ec50049e-98e7-4e53-84b3-638d49b4b7b2"
      },
      "outputs": [
        {
          "output_type": "execute_result",
          "data": {
            "text/plain": [
              "[<matplotlib.lines.Line2D at 0x7973f3917be0>]"
            ]
          },
          "metadata": {},
          "execution_count": 19
        },
        {
          "output_type": "display_data",
          "data": {
            "text/plain": [
              "<Figure size 640x480 with 1 Axes>"
            ],
            "image/png": "[encoded data removed]"
          },
          "metadata": {}
        }
      ],
      "source": [
        "# plot your training loss\n",
        "plt.plot(train_losses)"
      ]
    },
    {
      "cell_type": "code",
      "execution_count": 20,
      "metadata": {
        "id": "k8LhTiPoIjN6",
        "colab": {
          "base_uri": "https://localhost:8080/"
        },
        "outputId": "f094b4c0-541c-422b-a140-a9bdb0935faa"
      },
      "outputs": [
        {
          "output_type": "stream",
          "name": "stdout",
          "text": [
            "Sampling step 900 completed\n",
            "Sampling step 800 completed\n",
            "Sampling step 700 completed\n",
            "Sampling step 600 completed\n",
            "Sampling step 500 completed\n",
            "Sampling step 400 completed\n",
            "Sampling step 300 completed\n",
            "Sampling step 200 completed\n",
            "Sampling step 100 completed\n",
            "Sampling step 0 completed\n"
          ]
        }
      ],
      "source": [
        "# Use sampling() to generate 16 images and plot them below\n",
        "images = sampling(model, 16)"
      ]
    },
    {
      "cell_type": "code",
      "source": [
        "print(images[0])\n",
        "\n",
        "# plt.figure(figsize=(16, 16))\n",
        "# for i in range(16):\n",
        "#     plt.subplot(4, 4, i + 1)\n",
        "#     plt.imshow(images[i].squeeze().detach().cpu(), cmap=\"gray\")\n",
        "#     plt.axis(\"off\")\n",
        "# plt.show()"
      ],
      "metadata": {
        "colab": {
          "base_uri": "https://localhost:8080/"
        },
        "id": "NPRgToBpv2zr",
        "outputId": "5a52e025-e80e-40ae-ef62-fc30b30309f0"
      },
      "execution_count": 24,
      "outputs": [
        {
          "output_type": "stream",
          "name": "stdout",
          "text": [
            "tensor([[[-551125.6875,  551164.0000, -551231.5000,  ...,  551181.3125,\n",
            "           551090.6250,  551139.0625],\n",
            "         [-551196.6250,  551191.1250,  551160.3750,  ..., -551233.7500,\n",
            "          -551101.9375, -551019.0625],\n",
            "         [-551230.4375, -551061.7500, -551119.3750,  ...,  551205.5625,\n",
            "           551223.0000,  551240.3125],\n",
            "         ...,\n",
            "         [-551142.8750, -551180.9375,  551124.0625,  ...,  551168.6250,\n",
            "           551229.7500, -551106.6250],\n",
            "         [ 551154.8125,  551248.8125, -551231.3750,  ...,  551053.7500,\n",
            "           551081.3750,  551289.0625],\n",
            "         [ 551064.5000, -551242.6250, -551222.8750,  ..., -551175.3125,\n",
            "          -551232.6875,  551148.1875]]], device='cuda:0')\n"
          ]
        }
      ]
    },
    {
      "cell_type": "markdown",
      "metadata": {
        "id": "ilBAnp5aIjN7"
      },
      "source": [
        "# Part 5: Questions\n",
        "\n",
        "1. Where do we scale the values of our training data? What range do we scale the data to? Why do we scale the data in that range?\n",
        "\n",
        "  ****\n",
        "\n",
        "2. Why is the cosine scheduler better than the linear scheduler?\n",
        "\n",
        "  **According to \"Improved Denoising Diffusion Probabilistic Models\", the cosine-based scheduler has greater drop-off in the middle of the timesteps and less change in the first and last timesteps, preventing large jumps in noise.**\n",
        "\n",
        "3. In the forward step, we perform a random number of denoising steps in one forward pass, but in the backward process, we have to perform T forward passes to generate images. Why is that?\n",
        "\n",
        "4. What is our network learning to predict?\n",
        "\n",
        "5. If we wanted to perform conditional generation; for example, if we wanted to provide our network with a digit and have it produce an image of that digit, what would we have to change?"
      ]
    }
  ],
  "metadata": {
    "colab": {
      "provenance": [],
      "gpuType": "T4"
    },
    "kernelspec": {
      "display_name": "Python 3",
      "name": "python3"
    },
    "language_info": {
      "codemirror_mode": {
        "name": "ipython",
        "version": 3
      },
      "file_extension": ".py",
      "mimetype": "text/x-python",
      "name": "python",
      "nbconvert_exporter": "python",
      "pygments_lexer": "ipython3",
      "version": "3.10.13"
    },
    "accelerator": "GPU"
  },
  "nbformat": 4,
  "nbformat_minor": 0
}